{
 "cells": [
  {
   "cell_type": "markdown",
   "id": "e12879bd",
   "metadata": {},
   "source": [
    "# Introduction"
   ]
  },
  {
   "cell_type": "markdown",
   "id": "abff92db",
   "metadata": {},
   "source": [
    "In this example we will use cluster analysis to analyze some data. Cluster analysis is an unsupervised learning ML algorithm. It involves placing objects in groups such that objects in a group are similar to onother but different/unrelated to objects in other groups."
   ]
  },
  {
   "cell_type": "markdown",
   "id": "d8d72f6e",
   "metadata": {},
   "source": [
    "K-means clustering algorithm represents each cluster by its corresponding cluster centroid. The algorithm would partition the input data into k-disjoint clusters by iteratively\n",
    "\n",
    "- Form k clusters by assigning each cluster to its nearest centroid\n",
    "- Recompute the centroid of each cluster"
   ]
  },
  {
   "cell_type": "markdown",
   "id": "8a1dff49",
   "metadata": {},
   "source": [
    "## Steps Taken\n",
    "- First step will be to generate the data to be used for cluster analysis - the data will have normal distribution centered [16,14] [10,6] [14,14].\n",
    "- Visualize the data, to see how the data is distributed.\n",
    "- Find the number of clusters that will be appropriate using the elbow method.\n",
    " - Plot the elbow graph to view the appropriate value of k.\n",
    "- Use k-means clustering to find the centroids of each of the clusters.\n",
    "- Visualize the clusters with the centroids for better display of the data."
   ]
  },
  {
   "cell_type": "code",
   "execution_count": 1,
   "id": "2863fa1e",
   "metadata": {},
   "outputs": [],
   "source": [
    "# Filter out unnecesary errors\n",
    "import warnings \n",
    "warnings.filterwarnings(\"ignore\")"
   ]
  },
  {
   "cell_type": "code",
   "execution_count": 2,
   "id": "5f5c237e",
   "metadata": {},
   "outputs": [],
   "source": [
    "# Import some of the libraries that will be used\n",
    "import numpy as np\n",
    "import pandas as pd\n",
    "import matplotlib.pyplot as plt\n",
    "from numpy.random import random\n",
    "%matplotlib inline"
   ]
  },
  {
   "cell_type": "markdown",
   "id": "01fd2c53",
   "metadata": {},
   "source": [
    "##  Generate the data\n",
    "\n",
    "The data will have normal distribution, with the means defined below and a uniform covariance"
   ]
  },
  {
   "cell_type": "code",
   "execution_count": 3,
   "id": "f97c68fa",
   "metadata": {},
   "outputs": [],
   "source": [
    "N = 1500"
   ]
  },
  {
   "cell_type": "code",
   "execution_count": 4,
   "id": "6aa17982",
   "metadata": {},
   "outputs": [],
   "source": [
    "mean1 = [6,14]\n",
    "mean2 = [10,6]\n",
    "mean3 = [14,14]\n",
    "cov = [[3.5,0], [0,3.5]]"
   ]
  },
  {
   "cell_type": "code",
   "execution_count": 5,
   "id": "f4a0fff5",
   "metadata": {},
   "outputs": [],
   "source": [
    "np.random.seed(50)"
   ]
  },
  {
   "cell_type": "code",
   "execution_count": 6,
   "id": "b33de0f2",
   "metadata": {},
   "outputs": [],
   "source": [
    "x =np.random.multivariate_normal(mean1, cov, int(N/6))"
   ]
  },
  {
   "cell_type": "code",
   "execution_count": 7,
   "id": "cf70443a",
   "metadata": {},
   "outputs": [
    {
     "data": {
      "text/plain": [
       "(250, 2)"
      ]
     },
     "execution_count": 7,
     "metadata": {},
     "output_type": "execute_result"
    }
   ],
   "source": [
    "x.shape"
   ]
  },
  {
   "cell_type": "code",
   "execution_count": 8,
   "id": "f14af339",
   "metadata": {},
   "outputs": [],
   "source": [
    "x =np.concatenate((x, np.random.multivariate_normal(mean2, cov, int(N/6))))"
   ]
  },
  {
   "cell_type": "code",
   "execution_count": 9,
   "id": "67f2a134",
   "metadata": {},
   "outputs": [
    {
     "data": {
      "text/plain": [
       "(500, 2)"
      ]
     },
     "execution_count": 9,
     "metadata": {},
     "output_type": "execute_result"
    }
   ],
   "source": [
    "x.shape"
   ]
  },
  {
   "cell_type": "code",
   "execution_count": 10,
   "id": "60d5928c",
   "metadata": {},
   "outputs": [],
   "source": [
    "x =np.concatenate((x, np.random.multivariate_normal(mean3, cov, int(N/6))))"
   ]
  },
  {
   "cell_type": "code",
   "execution_count": 11,
   "id": "592bd140",
   "metadata": {},
   "outputs": [
    {
     "data": {
      "text/plain": [
       "(750, 2)"
      ]
     },
     "execution_count": 11,
     "metadata": {},
     "output_type": "execute_result"
    }
   ],
   "source": [
    "x.shape"
   ]
  },
  {
   "cell_type": "code",
   "execution_count": 12,
   "id": "1a244293",
   "metadata": {},
   "outputs": [],
   "source": [
    "y = (np.ones(int(N)))"
   ]
  },
  {
   "cell_type": "code",
   "execution_count": 13,
   "id": "ce4ff71b",
   "metadata": {},
   "outputs": [
    {
     "data": {
      "text/plain": [
       "array([1., 1., 1., ..., 1., 1., 1.])"
      ]
     },
     "execution_count": 13,
     "metadata": {},
     "output_type": "execute_result"
    }
   ],
   "source": [
    "y"
   ]
  },
  {
   "cell_type": "markdown",
   "id": "0295f7af",
   "metadata": {},
   "source": [
    "## Visualize the data"
   ]
  },
  {
   "cell_type": "code",
   "execution_count": 14,
   "id": "4deb3883",
   "metadata": {},
   "outputs": [
    {
     "data": {
      "text/plain": [
       "[<matplotlib.lines.Line2D at 0x2569a456c70>]"
      ]
     },
     "execution_count": 14,
     "metadata": {},
     "output_type": "execute_result"
    },
    {
     "data": {
      "image/png": "[encoded data removed]",
      "text/plain": [
       "<Figure size 432x288 with 1 Axes>"
      ]
     },
     "metadata": {
      "needs_background": "light"
     },
     "output_type": "display_data"
    }
   ],
   "source": [
    "plt.plot(x[:int(N/2), 0], x[:int(N/2),1], 'r+', ms=4)"
   ]
  },
  {
   "cell_type": "markdown",
   "id": "4a39f5e8",
   "metadata": {},
   "source": [
    "As shown above, the data distribution on the plot shows that the data could possibly be grouped into three distinct groups or clusters. Now we use cluster analysis to check what would be the best number of clusters to group the data into. We will see if the results are similar to the current observation of 3 clusters."
   ]
  },
  {
   "cell_type": "markdown",
   "id": "87c1a7a8",
   "metadata": {},
   "source": [
    "## Use the Elbow method to find the number of clusters\n",
    "\n",
    "The elbow method uses the sum of squared error for each number of clusters, and uses that to determine the best number of clusters to be picked."
   ]
  },
  {
   "cell_type": "code",
   "execution_count": 15,
   "id": "aa7ea90a",
   "metadata": {},
   "outputs": [],
   "source": [
    "from sklearn import cluster"
   ]
  },
  {
   "cell_type": "code",
   "execution_count": 16,
   "id": "cf98f987",
   "metadata": {},
   "outputs": [],
   "source": [
    "numClusters = [1,2,3,4,5,6]"
   ]
  },
  {
   "cell_type": "code",
   "execution_count": 17,
   "id": "6117368f",
   "metadata": {},
   "outputs": [],
   "source": [
    "# declare SSE as an empty list. SSE is Sum of the squared error\n",
    "SSE = []\n",
    "\n",
    "# Loop through the numClusters array, using each of the numbers as the number of clusters.\n",
    "# k_means.inertia_ gives the sum of squared errors\n",
    "for k in numClusters:\n",
    "    k_means = cluster.KMeans(n_clusters=k)\n",
    "    k_means.fit(x)\n",
    "    SSE.append(k_means.inertia_)"
   ]
  },
  {
   "cell_type": "code",
   "execution_count": 18,
   "id": "58c38d92",
   "metadata": {},
   "outputs": [
    {
     "data": {
      "text/plain": [
       "[24118.7207094972,\n",
       " 13627.031960680926,\n",
       " 5116.338694781712,\n",
       " 4394.425801484561,\n",
       " 3790.192580737591,\n",
       " 3278.16434527811]"
      ]
     },
     "execution_count": 18,
     "metadata": {},
     "output_type": "execute_result"
    }
   ],
   "source": [
    "SSE"
   ]
  },
  {
   "cell_type": "markdown",
   "id": "0bb3ce1b",
   "metadata": {},
   "source": [
    "### Plot the Elbow"
   ]
  },
  {
   "cell_type": "code",
   "execution_count": 19,
   "id": "c53519dc",
   "metadata": {},
   "outputs": [
    {
     "data": {
      "text/plain": [
       "Text(0, 0.5, 'SSE')"
      ]
     },
     "execution_count": 19,
     "metadata": {},
     "output_type": "execute_result"
    },
    {
     "data": {
      "image/png": "[encoded data removed]",
      "text/plain": [
       "<Figure size 432x288 with 1 Axes>"
      ]
     },
     "metadata": {
      "needs_background": "light"
     },
     "output_type": "display_data"
    }
   ],
   "source": [
    "plt.plot(numClusters, SSE)\n",
    "plt.xlabel('Number of Clusters')\n",
    "plt.ylabel('SSE')"
   ]
  },
  {
   "cell_type": "markdown",
   "id": "96847cdb",
   "metadata": {},
   "source": [
    "As shown above, the best number of clusters is 3."
   ]
  },
  {
   "cell_type": "markdown",
   "id": "a4f27dbf",
   "metadata": {},
   "source": [
    "## Apply k-means clustering using the value of k from elbow"
   ]
  },
  {
   "cell_type": "code",
   "execution_count": 20,
   "id": "4aa87dcf",
   "metadata": {},
   "outputs": [
    {
     "data": {
      "text/plain": [
       "array([[ 3.0808485 , 13.94204621],\n",
       "       [ 4.83834929, 11.2600208 ],\n",
       "       [ 8.64150932, 13.10811583],\n",
       "       ...,\n",
       "       [12.5060124 , 11.43368649],\n",
       "       [12.96938736, 13.11733316],\n",
       "       [16.06699074, 14.97152845]])"
      ]
     },
     "execution_count": 20,
     "metadata": {},
     "output_type": "execute_result"
    }
   ],
   "source": [
    "x"
   ]
  },
  {
   "cell_type": "markdown",
   "id": "4a7510ba",
   "metadata": {},
   "source": [
    "Convert the data from array type to a dataframe for easier working"
   ]
  },
  {
   "cell_type": "code",
   "execution_count": 21,
   "id": "0e5550cf",
   "metadata": {},
   "outputs": [],
   "source": [
    "df = pd.DataFrame(data=x, columns=['Col-1', 'Col-2'])"
   ]
  },
  {
   "cell_type": "code",
   "execution_count": 22,
   "id": "2fbfd5ae",
   "metadata": {},
   "outputs": [
    {
     "data": {
      "text/html": [
       "<div>\n",
       "<style scoped>\n",
       "    .dataframe tbody tr th:only-of-type {\n",
       "        vertical-align: middle;\n",
       "    }\n",
       "\n",
       "    .dataframe tbody tr th {\n",
       "        vertical-align: top;\n",
       "    }\n",
       "\n",
       "    .dataframe thead th {\n",
       "        text-align: right;\n",
       "    }\n",
       "</style>\n",
       "<table border=\"1\" class=\"dataframe\">\n",
       "  <thead>\n",
       "    <tr style=\"text-align: right;\">\n",
       "      <th></th>\n",
       "      <th>Col-1</th>\n",
       "      <th>Col-2</th>\n",
       "    </tr>\n",
       "  </thead>\n",
       "  <tbody>\n",
       "    <tr>\n",
       "      <th>0</th>\n",
       "      <td>3.080849</td>\n",
       "      <td>13.942046</td>\n",
       "    </tr>\n",
       "    <tr>\n",
       "      <th>1</th>\n",
       "      <td>4.838349</td>\n",
       "      <td>11.260021</td>\n",
       "    </tr>\n",
       "    <tr>\n",
       "      <th>2</th>\n",
       "      <td>8.641509</td>\n",
       "      <td>13.108116</td>\n",
       "    </tr>\n",
       "    <tr>\n",
       "      <th>3</th>\n",
       "      <td>4.539876</td>\n",
       "      <td>16.002288</td>\n",
       "    </tr>\n",
       "    <tr>\n",
       "      <th>4</th>\n",
       "      <td>3.601050</td>\n",
       "      <td>11.516514</td>\n",
       "    </tr>\n",
       "  </tbody>\n",
       "</table>\n",
       "</div>"
      ],
      "text/plain": [
       "      Col-1      Col-2\n",
       "0  3.080849  13.942046\n",
       "1  4.838349  11.260021\n",
       "2  8.641509  13.108116\n",
       "3  4.539876  16.002288\n",
       "4  3.601050  11.516514"
      ]
     },
     "execution_count": 22,
     "metadata": {},
     "output_type": "execute_result"
    }
   ],
   "source": [
    "df.head()"
   ]
  },
  {
   "cell_type": "code",
   "execution_count": 23,
   "id": "03b73a5b",
   "metadata": {},
   "outputs": [],
   "source": [
    "# Define the model."
   ]
  },
  {
   "cell_type": "code",
   "execution_count": 24,
   "id": "e4b1e547",
   "metadata": {},
   "outputs": [],
   "source": [
    "k_means = cluster.KMeans(n_clusters=3, max_iter=100, random_state=1)"
   ]
  },
  {
   "cell_type": "code",
   "execution_count": 25,
   "id": "94f57c86",
   "metadata": {},
   "outputs": [],
   "source": [
    "# Fit the data to the model."
   ]
  },
  {
   "cell_type": "code",
   "execution_count": 26,
   "id": "a9a0cc27",
   "metadata": {},
   "outputs": [
    {
     "data": {
      "text/plain": [
       "KMeans(max_iter=100, n_clusters=3, random_state=1)"
      ]
     },
     "execution_count": 26,
     "metadata": {},
     "output_type": "execute_result"
    }
   ],
   "source": [
    "k_means.fit(df)"
   ]
  },
  {
   "cell_type": "code",
   "execution_count": 27,
   "id": "d1c2a78d",
   "metadata": {},
   "outputs": [],
   "source": [
    "labels = k_means.labels_"
   ]
  },
  {
   "cell_type": "code",
   "execution_count": 28,
   "id": "d90ef10a",
   "metadata": {},
   "outputs": [],
   "source": [
    "cluster_data = pd.DataFrame(labels, columns=['Cluster ID'])"
   ]
  },
  {
   "cell_type": "code",
   "execution_count": 29,
   "id": "c196e571",
   "metadata": {},
   "outputs": [
    {
     "data": {
      "text/html": [
       "<div>\n",
       "<style scoped>\n",
       "    .dataframe tbody tr th:only-of-type {\n",
       "        vertical-align: middle;\n",
       "    }\n",
       "\n",
       "    .dataframe tbody tr th {\n",
       "        vertical-align: top;\n",
       "    }\n",
       "\n",
       "    .dataframe thead th {\n",
       "        text-align: right;\n",
       "    }\n",
       "</style>\n",
       "<table border=\"1\" class=\"dataframe\">\n",
       "  <thead>\n",
       "    <tr style=\"text-align: right;\">\n",
       "      <th></th>\n",
       "      <th>Cluster ID</th>\n",
       "    </tr>\n",
       "  </thead>\n",
       "  <tbody>\n",
       "    <tr>\n",
       "      <th>163</th>\n",
       "      <td>0</td>\n",
       "    </tr>\n",
       "    <tr>\n",
       "      <th>114</th>\n",
       "      <td>0</td>\n",
       "    </tr>\n",
       "    <tr>\n",
       "      <th>64</th>\n",
       "      <td>0</td>\n",
       "    </tr>\n",
       "    <tr>\n",
       "      <th>159</th>\n",
       "      <td>0</td>\n",
       "    </tr>\n",
       "    <tr>\n",
       "      <th>409</th>\n",
       "      <td>2</td>\n",
       "    </tr>\n",
       "    <tr>\n",
       "      <th>41</th>\n",
       "      <td>2</td>\n",
       "    </tr>\n",
       "    <tr>\n",
       "      <th>674</th>\n",
       "      <td>1</td>\n",
       "    </tr>\n",
       "  </tbody>\n",
       "</table>\n",
       "</div>"
      ],
      "text/plain": [
       "     Cluster ID\n",
       "163           0\n",
       "114           0\n",
       "64            0\n",
       "159           0\n",
       "409           2\n",
       "41            2\n",
       "674           1"
      ]
     },
     "execution_count": 29,
     "metadata": {},
     "output_type": "execute_result"
    }
   ],
   "source": [
    "cluster_data.sample(7)"
   ]
  },
  {
   "cell_type": "markdown",
   "id": "30b4705e",
   "metadata": {},
   "source": [
    "There are three clusters 0, 1 and 2"
   ]
  },
  {
   "cell_type": "code",
   "execution_count": 30,
   "id": "2e5bdc33",
   "metadata": {},
   "outputs": [],
   "source": [
    "# Add the new column of Cluster_ID to the dataframe.\n",
    "# Display the dataframe.\n",
    "\n",
    "df['Cluster_ID'] = cluster_data"
   ]
  },
  {
   "cell_type": "code",
   "execution_count": 31,
   "id": "fbef9264",
   "metadata": {},
   "outputs": [
    {
     "data": {
      "text/html": [
       "<div>\n",
       "<style scoped>\n",
       "    .dataframe tbody tr th:only-of-type {\n",
       "        vertical-align: middle;\n",
       "    }\n",
       "\n",
       "    .dataframe tbody tr th {\n",
       "        vertical-align: top;\n",
       "    }\n",
       "\n",
       "    .dataframe thead th {\n",
       "        text-align: right;\n",
       "    }\n",
       "</style>\n",
       "<table border=\"1\" class=\"dataframe\">\n",
       "  <thead>\n",
       "    <tr style=\"text-align: right;\">\n",
       "      <th></th>\n",
       "      <th>Col-1</th>\n",
       "      <th>Col-2</th>\n",
       "      <th>Cluster_ID</th>\n",
       "    </tr>\n",
       "  </thead>\n",
       "  <tbody>\n",
       "    <tr>\n",
       "      <th>299</th>\n",
       "      <td>10.238317</td>\n",
       "      <td>4.108938</td>\n",
       "      <td>2</td>\n",
       "    </tr>\n",
       "    <tr>\n",
       "      <th>438</th>\n",
       "      <td>10.682141</td>\n",
       "      <td>9.289624</td>\n",
       "      <td>2</td>\n",
       "    </tr>\n",
       "    <tr>\n",
       "      <th>630</th>\n",
       "      <td>16.690237</td>\n",
       "      <td>15.852277</td>\n",
       "      <td>1</td>\n",
       "    </tr>\n",
       "    <tr>\n",
       "      <th>437</th>\n",
       "      <td>14.111697</td>\n",
       "      <td>4.535391</td>\n",
       "      <td>2</td>\n",
       "    </tr>\n",
       "    <tr>\n",
       "      <th>42</th>\n",
       "      <td>5.627612</td>\n",
       "      <td>14.655596</td>\n",
       "      <td>0</td>\n",
       "    </tr>\n",
       "    <tr>\n",
       "      <th>187</th>\n",
       "      <td>8.701464</td>\n",
       "      <td>11.051829</td>\n",
       "      <td>0</td>\n",
       "    </tr>\n",
       "    <tr>\n",
       "      <th>542</th>\n",
       "      <td>13.912174</td>\n",
       "      <td>11.861407</td>\n",
       "      <td>1</td>\n",
       "    </tr>\n",
       "  </tbody>\n",
       "</table>\n",
       "</div>"
      ],
      "text/plain": [
       "         Col-1      Col-2  Cluster_ID\n",
       "299  10.238317   4.108938           2\n",
       "438  10.682141   9.289624           2\n",
       "630  16.690237  15.852277           1\n",
       "437  14.111697   4.535391           2\n",
       "42    5.627612  14.655596           0\n",
       "187   8.701464  11.051829           0\n",
       "542  13.912174  11.861407           1"
      ]
     },
     "execution_count": 31,
     "metadata": {},
     "output_type": "execute_result"
    }
   ],
   "source": [
    "df.sample(7)"
   ]
  },
  {
   "cell_type": "markdown",
   "id": "640a758d",
   "metadata": {},
   "source": [
    "After picking a sample from the data, we can see that there are three clusters with IDs 0, 1 and 2. The fist entries of index 1 to 249 belong to cluster 0, Form index 250 - 499 belong to cluster 2 and the data from index 500 onwards belong to cluster 1. "
   ]
  },
  {
   "cell_type": "markdown",
   "id": "39a74bb5",
   "metadata": {},
   "source": [
    "### Find the centroids for Each Cluster"
   ]
  },
  {
   "cell_type": "code",
   "execution_count": 32,
   "id": "e1cdaff1",
   "metadata": {},
   "outputs": [],
   "source": [
    "centroids = k_means.cluster_centers_"
   ]
  },
  {
   "cell_type": "code",
   "execution_count": 33,
   "id": "37b61bdd",
   "metadata": {},
   "outputs": [
    {
     "data": {
      "text/plain": [
       "array([[ 5.84742828, 13.8415819 ],\n",
       "       [14.14705418, 14.06272164],\n",
       "       [10.0828762 ,  6.06371255]])"
      ]
     },
     "execution_count": 33,
     "metadata": {},
     "output_type": "execute_result"
    }
   ],
   "source": [
    "centroids"
   ]
  },
  {
   "cell_type": "markdown",
   "id": "4be4907d",
   "metadata": {},
   "source": [
    "The values of the centroids above are very close to the means defined when creating the data i.e.\n",
    "- [6, 14]  [ 5.84742828, 13.8415819 ]\n",
    "\n",
    "- [14, 14] [14.14705418, 14.06272164]\n",
    "\n",
    "- [10, 6]  [10.0828762 ,  6.06371255]"
   ]
  },
  {
   "cell_type": "markdown",
   "id": "70dfecbf",
   "metadata": {},
   "source": [
    "## Visualize the Clusters and Centroids"
   ]
  },
  {
   "cell_type": "code",
   "execution_count": 34,
   "id": "91fb263c",
   "metadata": {},
   "outputs": [
    {
     "data": {
      "image/png": "[encoded data removed]",
      "text/plain": [
       "<Figure size 432x288 with 1 Axes>"
      ]
     },
     "metadata": {
      "needs_background": "light"
     },
     "output_type": "display_data"
    }
   ],
   "source": [
    "label = k_means.fit_predict(x)\n",
    "\n",
    "# Select Unique Labels\n",
    "u_labels = np.unique(label)\n",
    " \n",
    "# plotting the results:\n",
    " \n",
    "for i in u_labels:\n",
    "    plt.scatter(x[label == i , 0] , x[label == i , 1] , label = i, s=30)\n",
    "plt.scatter(centroids[:,0] , centroids[:,1] , s = 80, color = 'k')\n",
    "plt.legend()\n",
    "plt.show()"
   ]
  },
  {
   "cell_type": "markdown",
   "id": "ea649f1e",
   "metadata": {},
   "source": [
    "The data is plotted above with the centroid shown in the middle of the cluster with the black spot. "
   ]
  },
  {
   "cell_type": "code",
   "execution_count": null,
   "id": "47f0fdb1",
   "metadata": {},
   "outputs": [],
   "source": []
  }
 ],
 "metadata": {
  "kernelspec": {
   "display_name": "Python 3",
   "language": "python",
   "name": "python3"
  },
  "language_info": {
   "codemirror_mode": {
    "name": "ipython",
    "version": 3
   },
   "file_extension": ".py",
   "mimetype": "text/x-python",
   "name": "python",
   "nbconvert_exporter": "python",
   "pygments_lexer": "ipython3",
   "version": "3.8.8"
  }
 },
 "nbformat": 4,
 "nbformat_minor": 5
}
