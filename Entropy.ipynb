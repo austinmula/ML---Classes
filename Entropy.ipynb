{
 "cells": [
  {
   "cell_type": "code",
   "execution_count": 1,
   "id": "3562e16a",
   "metadata": {},
   "outputs": [],
   "source": [
    "import numpy as np"
   ]
  },
  {
   "cell_type": "code",
   "execution_count": 2,
   "id": "83ebda11",
   "metadata": {},
   "outputs": [
    {
     "data": {
      "text/plain": [
       "-0.5849625007211563"
      ]
     },
     "execution_count": 2,
     "metadata": {},
     "output_type": "execute_result"
    }
   ],
   "source": [
    "np.log2(2/3)"
   ]
  },
  {
   "cell_type": "code",
   "execution_count": 3,
   "id": "3955b6a9",
   "metadata": {},
   "outputs": [
    {
     "data": {
      "text/plain": [
       "0.38997500048077083"
      ]
     },
     "execution_count": 3,
     "metadata": {},
     "output_type": "execute_result"
    }
   ],
   "source": [
    "-(2/3)*np.log2(2/3)"
   ]
  },
  {
   "cell_type": "code",
   "execution_count": 4,
   "id": "514fe003",
   "metadata": {},
   "outputs": [
    {
     "data": {
      "text/plain": [
       "-0.0"
      ]
     },
     "execution_count": 4,
     "metadata": {},
     "output_type": "execute_result"
    }
   ],
   "source": [
    "-1 * np.log2(1)"
   ]
  },
  {
   "cell_type": "code",
   "execution_count": 5,
   "id": "2591db2a",
   "metadata": {},
   "outputs": [
    {
     "data": {
      "text/plain": [
       "0.5283208335737187"
      ]
     },
     "execution_count": 5,
     "metadata": {},
     "output_type": "execute_result"
    }
   ],
   "source": [
    "-(1/3) * np.log2(1/3)"
   ]
  },
  {
   "cell_type": "code",
   "execution_count": 5,
   "id": "3f07cf20",
   "metadata": {},
   "outputs": [
    {
     "data": {
      "text/plain": [
       "0.46134566974720237"
      ]
     },
     "execution_count": 5,
     "metadata": {},
     "output_type": "execute_result"
    }
   ],
   "source": [
    "-(4/7) * np.log2(4/7)"
   ]
  },
  {
   "cell_type": "code",
   "execution_count": 6,
   "id": "1a7b8a49",
   "metadata": {},
   "outputs": [
    {
     "data": {
      "text/plain": [
       "0.5238824662870492"
      ]
     },
     "execution_count": 6,
     "metadata": {},
     "output_type": "execute_result"
    }
   ],
   "source": [
    "-(3/7) * np.log2(3/7)"
   ]
  },
  {
   "cell_type": "code",
   "execution_count": 7,
   "id": "458d44b5",
   "metadata": {},
   "outputs": [
    {
     "data": {
      "text/plain": [
       "0.9852281360342515"
      ]
     },
     "execution_count": 7,
     "metadata": {},
     "output_type": "execute_result"
    }
   ],
   "source": [
    "0.46134566974720237 + 0.5238824662870492"
   ]
  },
  {
   "cell_type": "code",
   "execution_count": 8,
   "id": "0b07b3a3",
   "metadata": {},
   "outputs": [
    {
     "data": {
      "text/plain": [
       "0.5131166476570933"
      ]
     },
     "execution_count": 8,
     "metadata": {},
     "output_type": "execute_result"
    }
   ],
   "source": [
    "-(14/30) * np.log2(14/30)"
   ]
  },
  {
   "cell_type": "code",
   "execution_count": 9,
   "id": "48e76d68",
   "metadata": {},
   "outputs": [
    {
     "data": {
      "text/plain": [
       "0.48367498432454326"
      ]
     },
     "execution_count": 9,
     "metadata": {},
     "output_type": "execute_result"
    }
   ],
   "source": [
    "-(16/30) * np.log2(16/30)"
   ]
  },
  {
   "cell_type": "code",
   "execution_count": 10,
   "id": "0672d9d0",
   "metadata": {},
   "outputs": [
    {
     "data": {
      "text/plain": [
       "0.9967916319816366"
      ]
     },
     "execution_count": 10,
     "metadata": {},
     "output_type": "execute_result"
    }
   ],
   "source": [
    "0.48367498432454326 + 0.5131166476570933"
   ]
  },
  {
   "cell_type": "code",
   "execution_count": 11,
   "id": "75fa65e8",
   "metadata": {},
   "outputs": [
    {
     "data": {
      "text/plain": [
       "0.28464920908777636"
      ]
     },
     "execution_count": 11,
     "metadata": {},
     "output_type": "execute_result"
    }
   ],
   "source": [
    "-(1/13) * np.log2(1/13)"
   ]
  },
  {
   "cell_type": "code",
   "execution_count": 12,
   "id": "a67fb0eb",
   "metadata": {},
   "outputs": [
    {
     "data": {
      "text/plain": [
       "0.1065943545414793"
      ]
     },
     "execution_count": 12,
     "metadata": {},
     "output_type": "execute_result"
    }
   ],
   "source": [
    "-(12/13) * np.log2(12/13)"
   ]
  },
  {
   "cell_type": "code",
   "execution_count": 13,
   "id": "fe5188c1",
   "metadata": {},
   "outputs": [
    {
     "data": {
      "text/plain": [
       "0.39124356362925566"
      ]
     },
     "execution_count": 13,
     "metadata": {},
     "output_type": "execute_result"
    }
   ],
   "source": [
    "0.28464920908777636 + 0.1065943545414793"
   ]
  },
  {
   "cell_type": "code",
   "execution_count": 19,
   "id": "695bdcc2",
   "metadata": {},
   "outputs": [
    {
     "data": {
      "text/plain": [
       "0.7871265862012691"
      ]
     },
     "execution_count": 19,
     "metadata": {},
     "output_type": "execute_result"
    }
   ],
   "source": [
    "(-(13/17) * np.log2(13/17)) + (-(4/17) * np.log2(4/17))"
   ]
  },
  {
   "cell_type": "code",
   "execution_count": 20,
   "id": "3d552d25",
   "metadata": {},
   "outputs": [
    {
     "data": {
      "text/plain": [
       "0.4460383988473858"
      ]
     },
     "execution_count": 20,
     "metadata": {},
     "output_type": "execute_result"
    }
   ],
   "source": [
    "0.7871265862012691 * (17/30)"
   ]
  },
  {
   "cell_type": "code",
   "execution_count": 21,
   "id": "713b43bf",
   "metadata": {},
   "outputs": [
    {
     "data": {
      "text/plain": [
       "0.16953887757267747"
      ]
     },
     "execution_count": 21,
     "metadata": {},
     "output_type": "execute_result"
    }
   ],
   "source": [
    "0.39124356362925566 * (13/30)"
   ]
  },
  {
   "cell_type": "code",
   "execution_count": 22,
   "id": "62f51498",
   "metadata": {},
   "outputs": [
    {
     "data": {
      "text/plain": [
       "0.6155772764200632"
      ]
     },
     "execution_count": 22,
     "metadata": {},
     "output_type": "execute_result"
    }
   ],
   "source": [
    "0.16953887757267747 + 0.4460383988473858"
   ]
  },
  {
   "cell_type": "code",
   "execution_count": 23,
   "id": "8a31f0bc",
   "metadata": {},
   "outputs": [
    {
     "data": {
      "text/plain": [
       "0.38121435556157335"
      ]
     },
     "execution_count": 23,
     "metadata": {},
     "output_type": "execute_result"
    }
   ],
   "source": [
    "0.9967916319816366 - 0.6155772764200632"
   ]
  },
  {
   "cell_type": "code",
   "execution_count": 24,
   "id": "d70cc505",
   "metadata": {},
   "outputs": [
    {
     "data": {
      "text/plain": [
       "1.0"
      ]
     },
     "execution_count": 24,
     "metadata": {},
     "output_type": "execute_result"
    }
   ],
   "source": [
    "# Rntropy at the parent\n",
    "(-(2/4) * np.log2(2/4)) + (-(2/4) * np.log2(2/4))"
   ]
  },
  {
   "cell_type": "code",
   "execution_count": 26,
   "id": "a5a938bf",
   "metadata": {},
   "outputs": [
    {
     "data": {
      "text/plain": [
       "0.9182958340544896"
      ]
     },
     "execution_count": 26,
     "metadata": {},
     "output_type": "execute_result"
    }
   ],
   "source": [
    "# Entropy right hand\n",
    "(-(2/3) * np.log2(2/3)) + (-(1/3) * np.log2(1/3))"
   ]
  },
  {
   "cell_type": "code",
   "execution_count": 27,
   "id": "a7185d73",
   "metadata": {},
   "outputs": [
    {
     "data": {
      "text/plain": [
       "0.6885"
      ]
     },
     "execution_count": 27,
     "metadata": {},
     "output_type": "execute_result"
    }
   ],
   "source": [
    "0.918 * 3/4"
   ]
  },
  {
   "cell_type": "code",
   "execution_count": 28,
   "id": "e1e1ad77",
   "metadata": {},
   "outputs": [
    {
     "data": {
      "text/plain": [
       "-0.0"
      ]
     },
     "execution_count": 28,
     "metadata": {},
     "output_type": "execute_result"
    }
   ],
   "source": [
    "(-(1/1) * np.log2(1/1))"
   ]
  },
  {
   "cell_type": "code",
   "execution_count": null,
   "id": "a9f3673c",
   "metadata": {},
   "outputs": [],
   "source": []
  }
 ],
 "metadata": {
  "kernelspec": {
   "display_name": "Python 3",
   "language": "python",
   "name": "python3"
  },
  "language_info": {
   "codemirror_mode": {
    "name": "ipython",
    "version": 3
   },
   "file_extension": ".py",
   "mimetype": "text/x-python",
   "name": "python",
   "nbconvert_exporter": "python",
   "pygments_lexer": "ipython3",
   "version": "3.8.8"
  }
 },
 "nbformat": 4,
 "nbformat_minor": 5
}
