{
 "cells": [
  {
   "cell_type": "code",
   "execution_count": 1,
   "id": "637767ab",
   "metadata": {},
   "outputs": [],
   "source": [
    "# Create a dataset. 2D. The total number of values will be 1500 labeled 0 or 1 instances\n",
    "# How we generate the values: class 1 - normal distribution centered [16,14] [10,6] [14,14]\n",
    "#instance of class 0 will be generated using the uniform distribution in a square region 20\n",
    "# equal number of classes*** inheritance "
   ]
  },
  {
   "cell_type": "code",
   "execution_count": 2,
   "id": "08c2efc8",
   "metadata": {},
   "outputs": [],
   "source": [
    "import numpy as np\n",
    "import matplotlib.pyplot as plt\n",
    "from numpy.random import random\n",
    "%matplotlib inline"
   ]
  },
  {
   "cell_type": "code",
   "execution_count": 3,
   "id": "3df40370",
   "metadata": {},
   "outputs": [],
   "source": [
    "# the total no. of items wil be 1500\n",
    "N=1500"
   ]
  },
  {
   "cell_type": "code",
   "execution_count": 4,
   "id": "c66f4dc6",
   "metadata": {},
   "outputs": [],
   "source": [
    "mean1 = [6,14]\n",
    "mean2 = [10,6]\n",
    "mean3 = [14,14]\n",
    "cov = [[3.5,0], [0,3.5]]"
   ]
  },
  {
   "cell_type": "code",
   "execution_count": 5,
   "id": "8c8f8698",
   "metadata": {},
   "outputs": [],
   "source": [
    "np.random.seed(50)"
   ]
  },
  {
   "cell_type": "code",
   "execution_count": 6,
   "id": "1e860a34",
   "metadata": {},
   "outputs": [],
   "source": [
    "x =np.random.multivariate_normal(mean1, cov, int(N/6))"
   ]
  },
  {
   "cell_type": "code",
   "execution_count": 7,
   "id": "00d69a3e",
   "metadata": {},
   "outputs": [],
   "source": [
    "x =np.concatenate((x, np.random.multivariate_normal(mean2, cov, int(N/6))))"
   ]
  },
  {
   "cell_type": "code",
   "execution_count": 8,
   "id": "7ecec72b",
   "metadata": {},
   "outputs": [
    {
     "data": {
      "text/plain": [
       "array([[ 4.83834929, 11.2600208 ],\n",
       "       [ 8.64150932, 13.10811583],\n",
       "       [ 4.5398758 , 16.00228759],\n",
       "       [ 3.60105022, 11.51651438]])"
      ]
     },
     "execution_count": 8,
     "metadata": {},
     "output_type": "execute_result"
    }
   ],
   "source": [
    "x[1:5]"
   ]
  },
  {
   "cell_type": "code",
   "execution_count": 9,
   "id": "58757a1e",
   "metadata": {},
   "outputs": [
    {
     "data": {
      "text/plain": [
       "(500, 2)"
      ]
     },
     "execution_count": 9,
     "metadata": {},
     "output_type": "execute_result"
    }
   ],
   "source": [
    "x.shape"
   ]
  },
  {
   "cell_type": "code",
   "execution_count": 10,
   "id": "dffe2b1d",
   "metadata": {},
   "outputs": [],
   "source": [
    "x =np.concatenate((x, np.random.multivariate_normal(mean3, cov, int(N/6))))"
   ]
  },
  {
   "cell_type": "code",
   "execution_count": 11,
   "id": "1dfe15b3",
   "metadata": {},
   "outputs": [
    {
     "data": {
      "text/plain": [
       "(750, 2)"
      ]
     },
     "execution_count": 11,
     "metadata": {},
     "output_type": "execute_result"
    }
   ],
   "source": [
    "x.shape"
   ]
  },
  {
   "cell_type": "code",
   "execution_count": 12,
   "id": "c0ad6254",
   "metadata": {},
   "outputs": [],
   "source": [
    "x = np.concatenate((x, 20*np.random.rand(int(N/2),2)))"
   ]
  },
  {
   "cell_type": "code",
   "execution_count": 13,
   "id": "ad1f9382",
   "metadata": {},
   "outputs": [
    {
     "data": {
      "text/plain": [
       "(1500, 2)"
      ]
     },
     "execution_count": 13,
     "metadata": {},
     "output_type": "execute_result"
    }
   ],
   "source": [
    "x.shape"
   ]
  },
  {
   "cell_type": "code",
   "execution_count": 14,
   "id": "b57e7ded",
   "metadata": {},
   "outputs": [
    {
     "data": {
      "text/plain": [
       "array([[ 3.0808485 , 13.94204621],\n",
       "       [ 4.83834929, 11.2600208 ],\n",
       "       [ 8.64150932, 13.10811583],\n",
       "       [ 4.5398758 , 16.00228759],\n",
       "       [ 3.60105022, 11.51651438],\n",
       "       [ 6.23635608, 15.61301674],\n",
       "       [ 7.3034755 , 13.37408585],\n",
       "       [ 4.13379962, 16.99128351],\n",
       "       [12.20006725, 15.84794932],\n",
       "       [ 6.23173255, 15.38962423]])"
      ]
     },
     "execution_count": 14,
     "metadata": {},
     "output_type": "execute_result"
    }
   ],
   "source": [
    "x[:10]"
   ]
  },
  {
   "cell_type": "code",
   "execution_count": 15,
   "id": "65dbdeb9",
   "metadata": {},
   "outputs": [],
   "source": [
    "y = np.concatenate((np.ones(int(N/2)), np.zeros(int(N/2))))\n",
    "# first 750 assigned 1 and the last 750 -- 0"
   ]
  },
  {
   "cell_type": "code",
   "execution_count": 16,
   "id": "602cb1fd",
   "metadata": {},
   "outputs": [
    {
     "data": {
      "text/plain": [
       "array([1., 1., 1., ..., 0., 0., 0.])"
      ]
     },
     "execution_count": 16,
     "metadata": {},
     "output_type": "execute_result"
    }
   ],
   "source": [
    "y"
   ]
  },
  {
   "cell_type": "code",
   "execution_count": 17,
   "id": "784b00be",
   "metadata": {},
   "outputs": [
    {
     "data": {
      "text/plain": [
       "[<matplotlib.lines.Line2D at 0x188b9407220>,\n",
       " <matplotlib.lines.Line2D at 0x188b9407340>]"
      ]
     },
     "execution_count": 17,
     "metadata": {},
     "output_type": "execute_result"
    },
    {
     "data": {
      "image/png": "[encoded data removed]",
      "text/plain": [
       "<Figure size 432x288 with 1 Axes>"
      ]
     },
     "metadata": {
      "needs_background": "light"
     },
     "output_type": "display_data"
    }
   ],
   "source": [
    "plt.plot(x[:int(N/2), 0], x[:int(N/2),1], 'r+', x[int(N/2):, 0], x[int(N/2):,1], 'k.', ms=4)"
   ]
  },
  {
   "cell_type": "code",
   "execution_count": null,
   "id": "29a517c9",
   "metadata": {},
   "outputs": [],
   "source": []
  },
  {
   "cell_type": "code",
   "execution_count": 18,
   "id": "c24e04a1",
   "metadata": {},
   "outputs": [],
   "source": [
    "# Training and Test Dataset"
   ]
  },
  {
   "cell_type": "code",
   "execution_count": 19,
   "id": "c26f6664",
   "metadata": {},
   "outputs": [],
   "source": [
    "from sklearn.model_selection import train_test_split"
   ]
  },
  {
   "cell_type": "code",
   "execution_count": 20,
   "id": "6bc6cd83",
   "metadata": {},
   "outputs": [],
   "source": [
    "X_train, X_test, y_train, y_test = train_test_split(x,y, test_size=0.2,random_state=np.random.seed(7))"
   ]
  },
  {
   "cell_type": "code",
   "execution_count": 21,
   "id": "eea06a32",
   "metadata": {},
   "outputs": [
    {
     "data": {
      "text/plain": [
       "(1200, 2)"
      ]
     },
     "execution_count": 21,
     "metadata": {},
     "output_type": "execute_result"
    }
   ],
   "source": [
    "X_train.shape"
   ]
  },
  {
   "cell_type": "code",
   "execution_count": 22,
   "id": "966efcd1",
   "metadata": {},
   "outputs": [
    {
     "data": {
      "text/plain": [
       "(300, 2)"
      ]
     },
     "execution_count": 22,
     "metadata": {},
     "output_type": "execute_result"
    }
   ],
   "source": [
    "X_test.shape"
   ]
  },
  {
   "cell_type": "code",
   "execution_count": 23,
   "id": "ae4a86e7",
   "metadata": {},
   "outputs": [],
   "source": [
    "from sklearn import tree"
   ]
  },
  {
   "cell_type": "code",
   "execution_count": 24,
   "id": "d97f1577",
   "metadata": {},
   "outputs": [],
   "source": [
    "from sklearn.metrics import accuracy_score"
   ]
  },
  {
   "cell_type": "code",
   "execution_count": 25,
   "id": "a9c2d9ee",
   "metadata": {},
   "outputs": [],
   "source": [
    "#MOdel fitting and evaluation"
   ]
  },
  {
   "cell_type": "code",
   "execution_count": 26,
   "id": "aa1b1c1c",
   "metadata": {},
   "outputs": [],
   "source": [
    "maxdepths = [2, 3, 4, 5, 6,7,8,9, 10,15,20,25,30,35,40, 45, 50]"
   ]
  },
  {
   "cell_type": "code",
   "execution_count": 27,
   "id": "7d8356a6",
   "metadata": {},
   "outputs": [],
   "source": [
    "trainAcc=np.zeros(len(maxdepths))"
   ]
  },
  {
   "cell_type": "code",
   "execution_count": 28,
   "id": "1a0e34ad",
   "metadata": {},
   "outputs": [
    {
     "data": {
      "text/plain": [
       "array([0., 0., 0., 0., 0., 0., 0., 0., 0., 0., 0., 0., 0., 0., 0., 0., 0.])"
      ]
     },
     "execution_count": 28,
     "metadata": {},
     "output_type": "execute_result"
    }
   ],
   "source": [
    "trainAcc"
   ]
  },
  {
   "cell_type": "code",
   "execution_count": 29,
   "id": "d0ee1270",
   "metadata": {},
   "outputs": [],
   "source": [
    "testAcc = np.zeros(len(maxdepths))"
   ]
  },
  {
   "cell_type": "code",
   "execution_count": 30,
   "id": "9927906b",
   "metadata": {},
   "outputs": [
    {
     "data": {
      "text/plain": [
       "array([0., 0., 0., 0., 0., 0., 0., 0., 0., 0., 0., 0., 0., 0., 0., 0., 0.])"
      ]
     },
     "execution_count": 30,
     "metadata": {},
     "output_type": "execute_result"
    }
   ],
   "source": [
    "testAcc"
   ]
  },
  {
   "cell_type": "code",
   "execution_count": 31,
   "id": "22a1e007",
   "metadata": {},
   "outputs": [],
   "source": [
    "# Question - Which is the most important\n",
    "# is it the test accuracy or the trainning accur"
   ]
  },
  {
   "cell_type": "code",
   "execution_count": 32,
   "id": "364b7d6d",
   "metadata": {},
   "outputs": [],
   "source": [
    "index = 0\n",
    "for depth in maxdepths:\n",
    "    clf = tree.DecisionTreeClassifier(max_depth = depth)\n",
    "    clf=clf.fit(X_train, y_train)\n",
    "    Y_predTrain = clf.predict(X_train)\n",
    "    Y_predTest = clf.predict(X_test)\n",
    "    trainAcc[index] = accuracy_score(y_train, Y_predTrain)\n",
    "    testAcc[index]= accuracy_score(y_test, Y_predTest)\n",
    "    index += 1"
   ]
  },
  {
   "cell_type": "code",
   "execution_count": 33,
   "id": "51f5370c",
   "metadata": {},
   "outputs": [
    {
     "data": {
      "text/plain": [
       "array([0.63166667, 0.675     , 0.71166667, 0.71416667, 0.74333333,\n",
       "       0.76333333, 0.78333333, 0.79666667, 0.81666667, 0.90666667,\n",
       "       0.9775    , 0.9975    , 1.        , 1.        , 1.        ,\n",
       "       1.        , 1.        ])"
      ]
     },
     "execution_count": 33,
     "metadata": {},
     "output_type": "execute_result"
    }
   ],
   "source": [
    "trainAcc"
   ]
  },
  {
   "cell_type": "code",
   "execution_count": 34,
   "id": "46059137",
   "metadata": {},
   "outputs": [
    {
     "data": {
      "text/plain": [
       "array([0.65      , 0.68      , 0.71      , 0.70666667, 0.71333333,\n",
       "       0.72      , 0.68333333, 0.68      , 0.7       , 0.67333333,\n",
       "       0.68666667, 0.69666667, 0.69      , 0.68333333, 0.69333333,\n",
       "       0.67333333, 0.68333333])"
      ]
     },
     "execution_count": 34,
     "metadata": {},
     "output_type": "execute_result"
    }
   ],
   "source": [
    "testAcc"
   ]
  },
  {
   "cell_type": "code",
   "execution_count": 35,
   "id": "f05c4a34",
   "metadata": {},
   "outputs": [
    {
     "data": {
      "text/plain": [
       "Text(0, 0.5, 'Accuracy')"
      ]
     },
     "execution_count": 35,
     "metadata": {},
     "output_type": "execute_result"
    },
    {
     "data": {
      "image/png": "[encoded data removed]",
      "text/plain": [
       "<Figure size 432x288 with 1 Axes>"
      ]
     },
     "metadata": {
      "needs_background": "light"
     },
     "output_type": "display_data"
    }
   ],
   "source": [
    "plt.plot(maxdepths, trainAcc, 'ro-', maxdepths, testAcc, 'bv--')\n",
    "plt.legend(['Training Accuracy', 'Test Accuracy'])\n",
    "plt.xlabel('Max depth')\n",
    "plt.ylabel('Accuracy')"
   ]
  },
  {
   "cell_type": "code",
   "execution_count": 36,
   "id": "0895d3a0",
   "metadata": {},
   "outputs": [
    {
     "data": {
      "text/plain": [
       "array([0.65      , 0.68      , 0.71      , 0.70666667, 0.71333333,\n",
       "       0.72      , 0.68333333, 0.68      , 0.7       , 0.67333333,\n",
       "       0.68666667, 0.69666667, 0.69      , 0.68333333, 0.69333333,\n",
       "       0.67333333, 0.68333333])"
      ]
     },
     "execution_count": 36,
     "metadata": {},
     "output_type": "execute_result"
    }
   ],
   "source": [
    "testAcc"
   ]
  },
  {
   "cell_type": "code",
   "execution_count": 37,
   "id": "b839bb29",
   "metadata": {},
   "outputs": [
    {
     "data": {
      "text/plain": [
       "[2, 3, 4, 5, 6, 7, 8, 9, 10, 15, 20, 25, 30, 35, 40, 45, 50]"
      ]
     },
     "execution_count": 37,
     "metadata": {},
     "output_type": "execute_result"
    }
   ],
   "source": [
    "maxdepths"
   ]
  },
  {
   "cell_type": "code",
   "execution_count": 38,
   "id": "4d53e8c8",
   "metadata": {},
   "outputs": [
    {
     "data": {
      "text/plain": [
       "0.72"
      ]
     },
     "execution_count": 38,
     "metadata": {},
     "output_type": "execute_result"
    }
   ],
   "source": [
    "max(testAcc)"
   ]
  },
  {
   "cell_type": "code",
   "execution_count": 39,
   "id": "8a2f0997",
   "metadata": {},
   "outputs": [],
   "source": [
    "#Best depth is when the accuracy of the test is highest. This is at a depth of 7"
   ]
  },
  {
   "cell_type": "code",
   "execution_count": 40,
   "id": "297a9caf",
   "metadata": {},
   "outputs": [
    {
     "data": {
      "text/plain": [
       "1.0"
      ]
     },
     "execution_count": 40,
     "metadata": {},
     "output_type": "execute_result"
    }
   ],
   "source": [
    "max(trainAcc)"
   ]
  },
  {
   "cell_type": "code",
   "execution_count": 41,
   "id": "3df24e97",
   "metadata": {},
   "outputs": [
    {
     "data": {
      "text/plain": [
       "array([0.63166667, 0.675     , 0.71166667, 0.71416667, 0.74333333,\n",
       "       0.76333333, 0.78333333, 0.79666667, 0.81666667, 0.90666667,\n",
       "       0.9775    , 0.9975    , 1.        , 1.        , 1.        ,\n",
       "       1.        , 1.        ])"
      ]
     },
     "execution_count": 41,
     "metadata": {},
     "output_type": "execute_result"
    }
   ],
   "source": [
    "trainAcc"
   ]
  },
  {
   "cell_type": "code",
   "execution_count": null,
   "id": "46073971",
   "metadata": {},
   "outputs": [],
   "source": []
  }
 ],
 "metadata": {
  "kernelspec": {
   "display_name": "Python 3",
   "language": "python",
   "name": "python3"
  },
  "language_info": {
   "codemirror_mode": {
    "name": "ipython",
    "version": 3
   },
   "file_extension": ".py",
   "mimetype": "text/x-python",
   "name": "python",
   "nbconvert_exporter": "python",
   "pygments_lexer": "ipython3",
   "version": "3.8.8"
  }
 },
 "nbformat": 4,
 "nbformat_minor": 5
}
