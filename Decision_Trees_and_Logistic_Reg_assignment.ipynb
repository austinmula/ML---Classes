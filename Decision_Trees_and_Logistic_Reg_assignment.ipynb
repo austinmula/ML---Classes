{
 "cells": [
  {
   "cell_type": "markdown",
   "id": "58970681",
   "metadata": {},
   "source": [
    "# Predicting Heart Failure Eventuality from patient Clinical records"
   ]
  },
  {
   "cell_type": "markdown",
   "id": "8d3cfcc3",
   "metadata": {},
   "source": [
    "## Introduction\n",
    "\n",
    "As Kenya commemorated the Word No-Tobacco day on May 31st 2018, the Ministry of health launched guidelines for the prevention and management of cardiovascular diseases. During the event presided over by Dr. Jackson Kioko, a major talking point was the creation of awareness in the link between tobacco products and cardiovascular diseases. In addition, Dr. Kioko  said that the guidelines were a major milestone in the country’s response to Non-Communicable Diseases (NCDs), which account for 50% of hospital admissions and 55% of hospital deaths in Kenya. Cardiovascular diseases (CVDs) are responsible for much of the NCD burden, he emphasized.Estimates show that 25% of hospital admissions and 13% of deaths in Kenya are due to CVDs. \n",
    "\n",
    "Heart failure is a chronic, progressive cardiovascular condition in which the heart muscle is unable to pump enough blood to meet the body's needs for blood and oxygen. Heart failure often develops after other conditions have damaged or weakened the heart. \n",
    "\n",
    "### Treatment\n",
    "\n",
    "Heart failure is a chronic disease needing lifelong management. However, with treatment, signs and symptoms of heart failure can improve, and the heart sometimes becomes stronger.\n",
    "\n",
    "### Dataset\n",
    "\n",
    "The dataset used was obtained from https://www.kaggle.com/andrewmvd/heart-failure-clinical-data.\n",
    "This dataset contains data collected from 299 patients, between the ages 40 - 100, who have heart-failure. The data has 12 columns that can be used to predict the mortality rate of heart failure. The columns include risk factors for cardiovascular diseases such as diabetes, high blood pressure, whether the patient smokes or not etc. \n",
    "\n",
    "The purspose of this activity is to see if the risk factors mentioned can be used to determine if heart failure patients respond to treatment or pass away."
   ]
  },
  {
   "cell_type": "code",
   "execution_count": 1,
   "id": "ad5d4874",
   "metadata": {},
   "outputs": [],
   "source": [
    "# import the libraries\n",
    "\n",
    "import pandas as pd\n",
    "import numpy as np\n",
    "from collections import Counter\n",
    "import warnings\n",
    "warnings.filterwarnings(\"ignore\")"
   ]
  },
  {
   "cell_type": "code",
   "execution_count": 2,
   "id": "65619c8e",
   "metadata": {},
   "outputs": [],
   "source": [
    "# use seeding to make sure results are reproducible\n",
    "np.random.seed(7)"
   ]
  },
  {
   "cell_type": "markdown",
   "id": "2a252afb",
   "metadata": {},
   "source": [
    "## Read and explore the data"
   ]
  },
  {
   "cell_type": "code",
   "execution_count": 3,
   "id": "bce330c0",
   "metadata": {},
   "outputs": [],
   "source": [
    "data=pd.read_csv('heart_failure_clinical_records_dataset.csv', header='infer')"
   ]
  },
  {
   "cell_type": "code",
   "execution_count": 4,
   "id": "5e9314b3",
   "metadata": {},
   "outputs": [
    {
     "name": "stdout",
     "output_type": "stream",
     "text": [
      "<class 'pandas.core.frame.DataFrame'>\n",
      "RangeIndex: 299 entries, 0 to 298\n",
      "Data columns (total 13 columns):\n",
      " #   Column                    Non-Null Count  Dtype  \n",
      "---  ------                    --------------  -----  \n",
      " 0   age                       299 non-null    float64\n",
      " 1   anaemia                   299 non-null    int64  \n",
      " 2   creatinine_phosphokinase  299 non-null    int64  \n",
      " 3   diabetes                  299 non-null    int64  \n",
      " 4   ejection_fraction         299 non-null    int64  \n",
      " 5   high_blood_pressure       299 non-null    int64  \n",
      " 6   platelets                 299 non-null    float64\n",
      " 7   serum_creatinine          299 non-null    float64\n",
      " 8   serum_sodium              299 non-null    int64  \n",
      " 9   sex                       299 non-null    int64  \n",
      " 10  smoking                   299 non-null    int64  \n",
      " 11  time                      299 non-null    int64  \n",
      " 12  DEATH_EVENT               299 non-null    int64  \n",
      "dtypes: float64(3), int64(10)\n",
      "memory usage: 30.5 KB\n"
     ]
    }
   ],
   "source": [
    "data.info()"
   ]
  },
  {
   "cell_type": "code",
   "execution_count": 5,
   "id": "81c62635",
   "metadata": {},
   "outputs": [
    {
     "data": {
      "text/html": [
       "<div>\n",
       "<style scoped>\n",
       "    .dataframe tbody tr th:only-of-type {\n",
       "        vertical-align: middle;\n",
       "    }\n",
       "\n",
       "    .dataframe tbody tr th {\n",
       "        vertical-align: top;\n",
       "    }\n",
       "\n",
       "    .dataframe thead th {\n",
       "        text-align: right;\n",
       "    }\n",
       "</style>\n",
       "<table border=\"1\" class=\"dataframe\">\n",
       "  <thead>\n",
       "    <tr style=\"text-align: right;\">\n",
       "      <th></th>\n",
       "      <th>count</th>\n",
       "      <th>mean</th>\n",
       "      <th>std</th>\n",
       "      <th>min</th>\n",
       "      <th>25%</th>\n",
       "      <th>50%</th>\n",
       "      <th>75%</th>\n",
       "      <th>max</th>\n",
       "    </tr>\n",
       "  </thead>\n",
       "  <tbody>\n",
       "    <tr>\n",
       "      <th>age</th>\n",
       "      <td>299.0</td>\n",
       "      <td>60.833893</td>\n",
       "      <td>11.894809</td>\n",
       "      <td>40.0</td>\n",
       "      <td>51.0</td>\n",
       "      <td>60.0</td>\n",
       "      <td>70.0</td>\n",
       "      <td>95.0</td>\n",
       "    </tr>\n",
       "    <tr>\n",
       "      <th>anaemia</th>\n",
       "      <td>299.0</td>\n",
       "      <td>0.431438</td>\n",
       "      <td>0.496107</td>\n",
       "      <td>0.0</td>\n",
       "      <td>0.0</td>\n",
       "      <td>0.0</td>\n",
       "      <td>1.0</td>\n",
       "      <td>1.0</td>\n",
       "    </tr>\n",
       "    <tr>\n",
       "      <th>creatinine_phosphokinase</th>\n",
       "      <td>299.0</td>\n",
       "      <td>581.839465</td>\n",
       "      <td>970.287881</td>\n",
       "      <td>23.0</td>\n",
       "      <td>116.5</td>\n",
       "      <td>250.0</td>\n",
       "      <td>582.0</td>\n",
       "      <td>7861.0</td>\n",
       "    </tr>\n",
       "    <tr>\n",
       "      <th>diabetes</th>\n",
       "      <td>299.0</td>\n",
       "      <td>0.418060</td>\n",
       "      <td>0.494067</td>\n",
       "      <td>0.0</td>\n",
       "      <td>0.0</td>\n",
       "      <td>0.0</td>\n",
       "      <td>1.0</td>\n",
       "      <td>1.0</td>\n",
       "    </tr>\n",
       "    <tr>\n",
       "      <th>ejection_fraction</th>\n",
       "      <td>299.0</td>\n",
       "      <td>38.083612</td>\n",
       "      <td>11.834841</td>\n",
       "      <td>14.0</td>\n",
       "      <td>30.0</td>\n",
       "      <td>38.0</td>\n",
       "      <td>45.0</td>\n",
       "      <td>80.0</td>\n",
       "    </tr>\n",
       "    <tr>\n",
       "      <th>high_blood_pressure</th>\n",
       "      <td>299.0</td>\n",
       "      <td>0.351171</td>\n",
       "      <td>0.478136</td>\n",
       "      <td>0.0</td>\n",
       "      <td>0.0</td>\n",
       "      <td>0.0</td>\n",
       "      <td>1.0</td>\n",
       "      <td>1.0</td>\n",
       "    </tr>\n",
       "    <tr>\n",
       "      <th>platelets</th>\n",
       "      <td>299.0</td>\n",
       "      <td>263358.029264</td>\n",
       "      <td>97804.236869</td>\n",
       "      <td>25100.0</td>\n",
       "      <td>212500.0</td>\n",
       "      <td>262000.0</td>\n",
       "      <td>303500.0</td>\n",
       "      <td>850000.0</td>\n",
       "    </tr>\n",
       "    <tr>\n",
       "      <th>serum_creatinine</th>\n",
       "      <td>299.0</td>\n",
       "      <td>1.393880</td>\n",
       "      <td>1.034510</td>\n",
       "      <td>0.5</td>\n",
       "      <td>0.9</td>\n",
       "      <td>1.1</td>\n",
       "      <td>1.4</td>\n",
       "      <td>9.4</td>\n",
       "    </tr>\n",
       "    <tr>\n",
       "      <th>serum_sodium</th>\n",
       "      <td>299.0</td>\n",
       "      <td>136.625418</td>\n",
       "      <td>4.412477</td>\n",
       "      <td>113.0</td>\n",
       "      <td>134.0</td>\n",
       "      <td>137.0</td>\n",
       "      <td>140.0</td>\n",
       "      <td>148.0</td>\n",
       "    </tr>\n",
       "    <tr>\n",
       "      <th>sex</th>\n",
       "      <td>299.0</td>\n",
       "      <td>0.648829</td>\n",
       "      <td>0.478136</td>\n",
       "      <td>0.0</td>\n",
       "      <td>0.0</td>\n",
       "      <td>1.0</td>\n",
       "      <td>1.0</td>\n",
       "      <td>1.0</td>\n",
       "    </tr>\n",
       "    <tr>\n",
       "      <th>smoking</th>\n",
       "      <td>299.0</td>\n",
       "      <td>0.321070</td>\n",
       "      <td>0.467670</td>\n",
       "      <td>0.0</td>\n",
       "      <td>0.0</td>\n",
       "      <td>0.0</td>\n",
       "      <td>1.0</td>\n",
       "      <td>1.0</td>\n",
       "    </tr>\n",
       "    <tr>\n",
       "      <th>time</th>\n",
       "      <td>299.0</td>\n",
       "      <td>130.260870</td>\n",
       "      <td>77.614208</td>\n",
       "      <td>4.0</td>\n",
       "      <td>73.0</td>\n",
       "      <td>115.0</td>\n",
       "      <td>203.0</td>\n",
       "      <td>285.0</td>\n",
       "    </tr>\n",
       "    <tr>\n",
       "      <th>DEATH_EVENT</th>\n",
       "      <td>299.0</td>\n",
       "      <td>0.321070</td>\n",
       "      <td>0.467670</td>\n",
       "      <td>0.0</td>\n",
       "      <td>0.0</td>\n",
       "      <td>0.0</td>\n",
       "      <td>1.0</td>\n",
       "      <td>1.0</td>\n",
       "    </tr>\n",
       "  </tbody>\n",
       "</table>\n",
       "</div>"
      ],
      "text/plain": [
       "                          count           mean           std      min  \\\n",
       "age                       299.0      60.833893     11.894809     40.0   \n",
       "anaemia                   299.0       0.431438      0.496107      0.0   \n",
       "creatinine_phosphokinase  299.0     581.839465    970.287881     23.0   \n",
       "diabetes                  299.0       0.418060      0.494067      0.0   \n",
       "ejection_fraction         299.0      38.083612     11.834841     14.0   \n",
       "high_blood_pressure       299.0       0.351171      0.478136      0.0   \n",
       "platelets                 299.0  263358.029264  97804.236869  25100.0   \n",
       "serum_creatinine          299.0       1.393880      1.034510      0.5   \n",
       "serum_sodium              299.0     136.625418      4.412477    113.0   \n",
       "sex                       299.0       0.648829      0.478136      0.0   \n",
       "smoking                   299.0       0.321070      0.467670      0.0   \n",
       "time                      299.0     130.260870     77.614208      4.0   \n",
       "DEATH_EVENT               299.0       0.321070      0.467670      0.0   \n",
       "\n",
       "                               25%       50%       75%       max  \n",
       "age                           51.0      60.0      70.0      95.0  \n",
       "anaemia                        0.0       0.0       1.0       1.0  \n",
       "creatinine_phosphokinase     116.5     250.0     582.0    7861.0  \n",
       "diabetes                       0.0       0.0       1.0       1.0  \n",
       "ejection_fraction             30.0      38.0      45.0      80.0  \n",
       "high_blood_pressure            0.0       0.0       1.0       1.0  \n",
       "platelets                 212500.0  262000.0  303500.0  850000.0  \n",
       "serum_creatinine               0.9       1.1       1.4       9.4  \n",
       "serum_sodium                 134.0     137.0     140.0     148.0  \n",
       "sex                            0.0       1.0       1.0       1.0  \n",
       "smoking                        0.0       0.0       1.0       1.0  \n",
       "time                          73.0     115.0     203.0     285.0  \n",
       "DEATH_EVENT                    0.0       0.0       1.0       1.0  "
      ]
     },
     "execution_count": 5,
     "metadata": {},
     "output_type": "execute_result"
    }
   ],
   "source": [
    "data.describe().T"
   ]
  },
  {
   "cell_type": "code",
   "execution_count": 6,
   "id": "2dc442f1",
   "metadata": {},
   "outputs": [
    {
     "data": {
      "text/plain": [
       "Index(['age', 'anaemia', 'creatinine_phosphokinase', 'diabetes',\n",
       "       'ejection_fraction', 'high_blood_pressure', 'platelets',\n",
       "       'serum_creatinine', 'serum_sodium', 'sex', 'smoking', 'time',\n",
       "       'DEATH_EVENT'],\n",
       "      dtype='object')"
      ]
     },
     "execution_count": 6,
     "metadata": {},
     "output_type": "execute_result"
    }
   ],
   "source": [
    "data.columns"
   ]
  },
  {
   "cell_type": "markdown",
   "id": "4755d410",
   "metadata": {},
   "source": [
    "these are the columns that will be used to predict the death event of patients with heart failure."
   ]
  },
  {
   "cell_type": "code",
   "execution_count": 7,
   "id": "9be2b371",
   "metadata": {},
   "outputs": [
    {
     "data": {
      "text/html": [
       "<div>\n",
       "<style scoped>\n",
       "    .dataframe tbody tr th:only-of-type {\n",
       "        vertical-align: middle;\n",
       "    }\n",
       "\n",
       "    .dataframe tbody tr th {\n",
       "        vertical-align: top;\n",
       "    }\n",
       "\n",
       "    .dataframe thead th {\n",
       "        text-align: right;\n",
       "    }\n",
       "</style>\n",
       "<table border=\"1\" class=\"dataframe\">\n",
       "  <thead>\n",
       "    <tr style=\"text-align: right;\">\n",
       "      <th></th>\n",
       "      <th>268</th>\n",
       "      <th>240</th>\n",
       "      <th>278</th>\n",
       "      <th>176</th>\n",
       "      <th>202</th>\n",
       "      <th>98</th>\n",
       "      <th>125</th>\n",
       "    </tr>\n",
       "  </thead>\n",
       "  <tbody>\n",
       "    <tr>\n",
       "      <th>age</th>\n",
       "      <td>45.0</td>\n",
       "      <td>70.0</td>\n",
       "      <td>50.0</td>\n",
       "      <td>69.0</td>\n",
       "      <td>70.0</td>\n",
       "      <td>60.0</td>\n",
       "      <td>43.0</td>\n",
       "    </tr>\n",
       "    <tr>\n",
       "      <th>anaemia</th>\n",
       "      <td>0.0</td>\n",
       "      <td>0.0</td>\n",
       "      <td>1.0</td>\n",
       "      <td>0.0</td>\n",
       "      <td>0.0</td>\n",
       "      <td>1.0</td>\n",
       "      <td>1.0</td>\n",
       "    </tr>\n",
       "    <tr>\n",
       "      <th>creatinine_phosphokinase</th>\n",
       "      <td>582.0</td>\n",
       "      <td>81.0</td>\n",
       "      <td>1051.0</td>\n",
       "      <td>1419.0</td>\n",
       "      <td>97.0</td>\n",
       "      <td>156.0</td>\n",
       "      <td>358.0</td>\n",
       "    </tr>\n",
       "    <tr>\n",
       "      <th>diabetes</th>\n",
       "      <td>1.0</td>\n",
       "      <td>1.0</td>\n",
       "      <td>1.0</td>\n",
       "      <td>0.0</td>\n",
       "      <td>0.0</td>\n",
       "      <td>1.0</td>\n",
       "      <td>0.0</td>\n",
       "    </tr>\n",
       "    <tr>\n",
       "      <th>ejection_fraction</th>\n",
       "      <td>38.0</td>\n",
       "      <td>35.0</td>\n",
       "      <td>30.0</td>\n",
       "      <td>40.0</td>\n",
       "      <td>60.0</td>\n",
       "      <td>25.0</td>\n",
       "      <td>50.0</td>\n",
       "    </tr>\n",
       "    <tr>\n",
       "      <th>high_blood_pressure</th>\n",
       "      <td>0.0</td>\n",
       "      <td>1.0</td>\n",
       "      <td>0.0</td>\n",
       "      <td>0.0</td>\n",
       "      <td>1.0</td>\n",
       "      <td>1.0</td>\n",
       "      <td>0.0</td>\n",
       "    </tr>\n",
       "    <tr>\n",
       "      <th>platelets</th>\n",
       "      <td>302000.0</td>\n",
       "      <td>533000.0</td>\n",
       "      <td>232000.0</td>\n",
       "      <td>105000.0</td>\n",
       "      <td>220000.0</td>\n",
       "      <td>318000.0</td>\n",
       "      <td>237000.0</td>\n",
       "    </tr>\n",
       "    <tr>\n",
       "      <th>serum_creatinine</th>\n",
       "      <td>0.9</td>\n",
       "      <td>1.3</td>\n",
       "      <td>0.7</td>\n",
       "      <td>1.0</td>\n",
       "      <td>0.9</td>\n",
       "      <td>1.2</td>\n",
       "      <td>1.3</td>\n",
       "    </tr>\n",
       "    <tr>\n",
       "      <th>serum_sodium</th>\n",
       "      <td>140.0</td>\n",
       "      <td>139.0</td>\n",
       "      <td>136.0</td>\n",
       "      <td>135.0</td>\n",
       "      <td>138.0</td>\n",
       "      <td>137.0</td>\n",
       "      <td>135.0</td>\n",
       "    </tr>\n",
       "    <tr>\n",
       "      <th>sex</th>\n",
       "      <td>0.0</td>\n",
       "      <td>0.0</td>\n",
       "      <td>0.0</td>\n",
       "      <td>1.0</td>\n",
       "      <td>1.0</td>\n",
       "      <td>0.0</td>\n",
       "      <td>0.0</td>\n",
       "    </tr>\n",
       "    <tr>\n",
       "      <th>smoking</th>\n",
       "      <td>0.0</td>\n",
       "      <td>0.0</td>\n",
       "      <td>0.0</td>\n",
       "      <td>1.0</td>\n",
       "      <td>0.0</td>\n",
       "      <td>0.0</td>\n",
       "      <td>0.0</td>\n",
       "    </tr>\n",
       "    <tr>\n",
       "      <th>time</th>\n",
       "      <td>244.0</td>\n",
       "      <td>212.0</td>\n",
       "      <td>246.0</td>\n",
       "      <td>147.0</td>\n",
       "      <td>186.0</td>\n",
       "      <td>85.0</td>\n",
       "      <td>97.0</td>\n",
       "    </tr>\n",
       "    <tr>\n",
       "      <th>DEATH_EVENT</th>\n",
       "      <td>0.0</td>\n",
       "      <td>0.0</td>\n",
       "      <td>0.0</td>\n",
       "      <td>0.0</td>\n",
       "      <td>0.0</td>\n",
       "      <td>0.0</td>\n",
       "      <td>0.0</td>\n",
       "    </tr>\n",
       "  </tbody>\n",
       "</table>\n",
       "</div>"
      ],
      "text/plain": [
       "                               268       240       278       176       202  \\\n",
       "age                           45.0      70.0      50.0      69.0      70.0   \n",
       "anaemia                        0.0       0.0       1.0       0.0       0.0   \n",
       "creatinine_phosphokinase     582.0      81.0    1051.0    1419.0      97.0   \n",
       "diabetes                       1.0       1.0       1.0       0.0       0.0   \n",
       "ejection_fraction             38.0      35.0      30.0      40.0      60.0   \n",
       "high_blood_pressure            0.0       1.0       0.0       0.0       1.0   \n",
       "platelets                 302000.0  533000.0  232000.0  105000.0  220000.0   \n",
       "serum_creatinine               0.9       1.3       0.7       1.0       0.9   \n",
       "serum_sodium                 140.0     139.0     136.0     135.0     138.0   \n",
       "sex                            0.0       0.0       0.0       1.0       1.0   \n",
       "smoking                        0.0       0.0       0.0       1.0       0.0   \n",
       "time                         244.0     212.0     246.0     147.0     186.0   \n",
       "DEATH_EVENT                    0.0       0.0       0.0       0.0       0.0   \n",
       "\n",
       "                               98        125  \n",
       "age                           60.0      43.0  \n",
       "anaemia                        1.0       1.0  \n",
       "creatinine_phosphokinase     156.0     358.0  \n",
       "diabetes                       1.0       0.0  \n",
       "ejection_fraction             25.0      50.0  \n",
       "high_blood_pressure            1.0       0.0  \n",
       "platelets                 318000.0  237000.0  \n",
       "serum_creatinine               1.2       1.3  \n",
       "serum_sodium                 137.0     135.0  \n",
       "sex                            0.0       0.0  \n",
       "smoking                        0.0       0.0  \n",
       "time                          85.0      97.0  \n",
       "DEATH_EVENT                    0.0       0.0  "
      ]
     },
     "execution_count": 7,
     "metadata": {},
     "output_type": "execute_result"
    }
   ],
   "source": [
    "data.sample(7).T"
   ]
  },
  {
   "cell_type": "code",
   "execution_count": 8,
   "id": "a5760076",
   "metadata": {},
   "outputs": [
    {
     "data": {
      "text/plain": [
       "array([1, 0], dtype=int64)"
      ]
     },
     "execution_count": 8,
     "metadata": {},
     "output_type": "execute_result"
    }
   ],
   "source": [
    "data['DEATH_EVENT'].unique()\n",
    "# show the unique values in the column"
   ]
  },
  {
   "cell_type": "markdown",
   "id": "5ec1bbb0",
   "metadata": {},
   "source": [
    "the death event column will be used to predict the mortality rate. It contains ones and zeros, where 1 means the patient passed away from heart failure, and 0 means the patient did not die."
   ]
  },
  {
   "cell_type": "markdown",
   "id": "5d8abe1c",
   "metadata": {},
   "source": [
    "### Explore class Distribution of the data"
   ]
  },
  {
   "cell_type": "code",
   "execution_count": 9,
   "id": "c58a2fce",
   "metadata": {},
   "outputs": [],
   "source": [
    "classes = Counter(data['DEATH_EVENT'].values)"
   ]
  },
  {
   "cell_type": "code",
   "execution_count": 10,
   "id": "7aac06fb",
   "metadata": {},
   "outputs": [
    {
     "data": {
      "text/plain": [
       "[(0, 203), (1, 96)]"
      ]
     },
     "execution_count": 10,
     "metadata": {},
     "output_type": "execute_result"
    }
   ],
   "source": [
    "classes.most_common()"
   ]
  },
  {
   "cell_type": "markdown",
   "id": "3274cf89",
   "metadata": {},
   "source": [
    "203 patients responded to treatment and 96 passed away."
   ]
  },
  {
   "cell_type": "code",
   "execution_count": 11,
   "id": "a6173c4f",
   "metadata": {},
   "outputs": [],
   "source": [
    "# Rename the DEATH_EVENT column to Class\n",
    "\n",
    "data.rename(columns={'DEATH_EVENT': 'Class'}, inplace=True)"
   ]
  },
  {
   "cell_type": "code",
   "execution_count": 12,
   "id": "26f0cdaa",
   "metadata": {},
   "outputs": [],
   "source": [
    "data = data.assign(platelet_count=pd.cut(data['platelets'], bins=[0, 150000, 450000, 800000], right=False, labels=['low', 'normal', 'high']))"
   ]
  },
  {
   "cell_type": "markdown",
   "id": "6996c70e",
   "metadata": {},
   "source": [
    "Turn the platelet column into categorical data by creating bins(low, high, normal). The normal platelet count is between 150000 and 450000."
   ]
  },
  {
   "cell_type": "markdown",
   "id": "b6e639da",
   "metadata": {},
   "source": [
    "## Divide the Data into Train and Test Data  \n",
    "\n",
    "We need to divide the data into two sepate dataframes randomly. The data is divided in the ratio 80: 20. 80% is used for trainning the model and 20% for testing"
   ]
  },
  {
   "cell_type": "code",
   "execution_count": 13,
   "id": "97157b2d",
   "metadata": {},
   "outputs": [],
   "source": [
    "from sklearn.model_selection import train_test_split"
   ]
  },
  {
   "cell_type": "code",
   "execution_count": 14,
   "id": "3b38abd5",
   "metadata": {},
   "outputs": [],
   "source": [
    "y = data['Class']"
   ]
  },
  {
   "cell_type": "code",
   "execution_count": 15,
   "id": "cc6cccf9",
   "metadata": {},
   "outputs": [
    {
     "data": {
      "text/plain": [
       "0    1\n",
       "1    1\n",
       "2    1\n",
       "3    1\n",
       "4    1\n",
       "Name: Class, dtype: int64"
      ]
     },
     "execution_count": 15,
     "metadata": {},
     "output_type": "execute_result"
    }
   ],
   "source": [
    "y.head()"
   ]
  },
  {
   "cell_type": "code",
   "execution_count": 16,
   "id": "98bc22c7",
   "metadata": {},
   "outputs": [],
   "source": [
    "data = data.drop(['platelets'], axis=1) \n",
    "# Drop the platelets column"
   ]
  },
  {
   "cell_type": "code",
   "execution_count": 17,
   "id": "a14f0ec8",
   "metadata": {},
   "outputs": [],
   "source": [
    "X = data.drop(['platelet_count'], axis=1)"
   ]
  },
  {
   "cell_type": "markdown",
   "id": "a031995b",
   "metadata": {},
   "source": [
    "- X_train, y_train is 80% of the data --> to be used for training\n",
    "- X_test, y_test is 20% of the data --> to be used for testing"
   ]
  },
  {
   "cell_type": "code",
   "execution_count": 18,
   "id": "da3e354f",
   "metadata": {},
   "outputs": [
    {
     "data": {
      "text/html": [
       "<div>\n",
       "<style scoped>\n",
       "    .dataframe tbody tr th:only-of-type {\n",
       "        vertical-align: middle;\n",
       "    }\n",
       "\n",
       "    .dataframe tbody tr th {\n",
       "        vertical-align: top;\n",
       "    }\n",
       "\n",
       "    .dataframe thead th {\n",
       "        text-align: right;\n",
       "    }\n",
       "</style>\n",
       "<table border=\"1\" class=\"dataframe\">\n",
       "  <thead>\n",
       "    <tr style=\"text-align: right;\">\n",
       "      <th></th>\n",
       "      <th>age</th>\n",
       "      <th>anaemia</th>\n",
       "      <th>creatinine_phosphokinase</th>\n",
       "      <th>diabetes</th>\n",
       "      <th>ejection_fraction</th>\n",
       "      <th>high_blood_pressure</th>\n",
       "      <th>serum_creatinine</th>\n",
       "      <th>serum_sodium</th>\n",
       "      <th>sex</th>\n",
       "      <th>smoking</th>\n",
       "      <th>time</th>\n",
       "      <th>Class</th>\n",
       "    </tr>\n",
       "  </thead>\n",
       "  <tbody>\n",
       "    <tr>\n",
       "      <th>0</th>\n",
       "      <td>75.0</td>\n",
       "      <td>0</td>\n",
       "      <td>582</td>\n",
       "      <td>0</td>\n",
       "      <td>20</td>\n",
       "      <td>1</td>\n",
       "      <td>1.9</td>\n",
       "      <td>130</td>\n",
       "      <td>1</td>\n",
       "      <td>0</td>\n",
       "      <td>4</td>\n",
       "      <td>1</td>\n",
       "    </tr>\n",
       "    <tr>\n",
       "      <th>1</th>\n",
       "      <td>55.0</td>\n",
       "      <td>0</td>\n",
       "      <td>7861</td>\n",
       "      <td>0</td>\n",
       "      <td>38</td>\n",
       "      <td>0</td>\n",
       "      <td>1.1</td>\n",
       "      <td>136</td>\n",
       "      <td>1</td>\n",
       "      <td>0</td>\n",
       "      <td>6</td>\n",
       "      <td>1</td>\n",
       "    </tr>\n",
       "    <tr>\n",
       "      <th>2</th>\n",
       "      <td>65.0</td>\n",
       "      <td>0</td>\n",
       "      <td>146</td>\n",
       "      <td>0</td>\n",
       "      <td>20</td>\n",
       "      <td>0</td>\n",
       "      <td>1.3</td>\n",
       "      <td>129</td>\n",
       "      <td>1</td>\n",
       "      <td>1</td>\n",
       "      <td>7</td>\n",
       "      <td>1</td>\n",
       "    </tr>\n",
       "    <tr>\n",
       "      <th>3</th>\n",
       "      <td>50.0</td>\n",
       "      <td>1</td>\n",
       "      <td>111</td>\n",
       "      <td>0</td>\n",
       "      <td>20</td>\n",
       "      <td>0</td>\n",
       "      <td>1.9</td>\n",
       "      <td>137</td>\n",
       "      <td>1</td>\n",
       "      <td>0</td>\n",
       "      <td>7</td>\n",
       "      <td>1</td>\n",
       "    </tr>\n",
       "    <tr>\n",
       "      <th>4</th>\n",
       "      <td>65.0</td>\n",
       "      <td>1</td>\n",
       "      <td>160</td>\n",
       "      <td>1</td>\n",
       "      <td>20</td>\n",
       "      <td>0</td>\n",
       "      <td>2.7</td>\n",
       "      <td>116</td>\n",
       "      <td>0</td>\n",
       "      <td>0</td>\n",
       "      <td>8</td>\n",
       "      <td>1</td>\n",
       "    </tr>\n",
       "  </tbody>\n",
       "</table>\n",
       "</div>"
      ],
      "text/plain": [
       "    age  anaemia  creatinine_phosphokinase  diabetes  ejection_fraction  \\\n",
       "0  75.0        0                       582         0                 20   \n",
       "1  55.0        0                      7861         0                 38   \n",
       "2  65.0        0                       146         0                 20   \n",
       "3  50.0        1                       111         0                 20   \n",
       "4  65.0        1                       160         1                 20   \n",
       "\n",
       "   high_blood_pressure  serum_creatinine  serum_sodium  sex  smoking  time  \\\n",
       "0                    1               1.9           130    1        0     4   \n",
       "1                    0               1.1           136    1        0     6   \n",
       "2                    0               1.3           129    1        1     7   \n",
       "3                    0               1.9           137    1        0     7   \n",
       "4                    0               2.7           116    0        0     8   \n",
       "\n",
       "   Class  \n",
       "0      1  \n",
       "1      1  \n",
       "2      1  \n",
       "3      1  \n",
       "4      1  "
      ]
     },
     "execution_count": 18,
     "metadata": {},
     "output_type": "execute_result"
    }
   ],
   "source": [
    "X.head()"
   ]
  },
  {
   "cell_type": "code",
   "execution_count": 19,
   "id": "0cc84b2b",
   "metadata": {},
   "outputs": [],
   "source": [
    "X_train, X_test, y_train, y_test = train_test_split(X, y, test_size=0.2, random_state=np.random.seed(7))"
   ]
  },
  {
   "cell_type": "code",
   "execution_count": 20,
   "id": "06153751",
   "metadata": {},
   "outputs": [
    {
     "data": {
      "text/plain": [
       "(239, 12)"
      ]
     },
     "execution_count": 20,
     "metadata": {},
     "output_type": "execute_result"
    }
   ],
   "source": [
    "X_train.shape"
   ]
  },
  {
   "cell_type": "code",
   "execution_count": 21,
   "id": "0f3e13a6",
   "metadata": {},
   "outputs": [
    {
     "data": {
      "text/plain": [
       "(60, 12)"
      ]
     },
     "execution_count": 21,
     "metadata": {},
     "output_type": "execute_result"
    }
   ],
   "source": [
    "X_test.shape"
   ]
  },
  {
   "cell_type": "code",
   "execution_count": 22,
   "id": "980110bc",
   "metadata": {},
   "outputs": [
    {
     "data": {
      "text/plain": [
       "79.93311036789298"
      ]
     },
     "execution_count": 22,
     "metadata": {},
     "output_type": "execute_result"
    }
   ],
   "source": [
    "239/(60+239) * 100"
   ]
  },
  {
   "cell_type": "markdown",
   "id": "5fb5fd1b",
   "metadata": {},
   "source": [
    "approximately 80% has been set aside for training"
   ]
  },
  {
   "cell_type": "markdown",
   "id": "b260142d",
   "metadata": {},
   "source": [
    "# Task 1 : Implement Decision Tree"
   ]
  },
  {
   "cell_type": "code",
   "execution_count": 23,
   "id": "d8fe8c22",
   "metadata": {},
   "outputs": [],
   "source": [
    "from sklearn import tree"
   ]
  },
  {
   "cell_type": "code",
   "execution_count": 24,
   "id": "8ea1e82c",
   "metadata": {},
   "outputs": [
    {
     "data": {
      "text/html": [
       "<div>\n",
       "<style scoped>\n",
       "    .dataframe tbody tr th:only-of-type {\n",
       "        vertical-align: middle;\n",
       "    }\n",
       "\n",
       "    .dataframe tbody tr th {\n",
       "        vertical-align: top;\n",
       "    }\n",
       "\n",
       "    .dataframe thead th {\n",
       "        text-align: right;\n",
       "    }\n",
       "</style>\n",
       "<table border=\"1\" class=\"dataframe\">\n",
       "  <thead>\n",
       "    <tr style=\"text-align: right;\">\n",
       "      <th></th>\n",
       "      <th>age</th>\n",
       "      <th>anaemia</th>\n",
       "      <th>creatinine_phosphokinase</th>\n",
       "      <th>diabetes</th>\n",
       "      <th>ejection_fraction</th>\n",
       "      <th>high_blood_pressure</th>\n",
       "      <th>serum_creatinine</th>\n",
       "      <th>serum_sodium</th>\n",
       "      <th>sex</th>\n",
       "      <th>smoking</th>\n",
       "      <th>time</th>\n",
       "    </tr>\n",
       "  </thead>\n",
       "  <tbody>\n",
       "    <tr>\n",
       "      <th>188</th>\n",
       "      <td>60.667</td>\n",
       "      <td>1</td>\n",
       "      <td>151</td>\n",
       "      <td>1</td>\n",
       "      <td>40</td>\n",
       "      <td>1</td>\n",
       "      <td>1.0</td>\n",
       "      <td>136</td>\n",
       "      <td>0</td>\n",
       "      <td>0</td>\n",
       "      <td>172</td>\n",
       "    </tr>\n",
       "    <tr>\n",
       "      <th>94</th>\n",
       "      <td>58.000</td>\n",
       "      <td>0</td>\n",
       "      <td>144</td>\n",
       "      <td>1</td>\n",
       "      <td>38</td>\n",
       "      <td>1</td>\n",
       "      <td>0.7</td>\n",
       "      <td>142</td>\n",
       "      <td>0</td>\n",
       "      <td>0</td>\n",
       "      <td>83</td>\n",
       "    </tr>\n",
       "    <tr>\n",
       "      <th>126</th>\n",
       "      <td>46.000</td>\n",
       "      <td>0</td>\n",
       "      <td>168</td>\n",
       "      <td>1</td>\n",
       "      <td>17</td>\n",
       "      <td>1</td>\n",
       "      <td>2.1</td>\n",
       "      <td>124</td>\n",
       "      <td>0</td>\n",
       "      <td>0</td>\n",
       "      <td>100</td>\n",
       "    </tr>\n",
       "    <tr>\n",
       "      <th>242</th>\n",
       "      <td>40.000</td>\n",
       "      <td>0</td>\n",
       "      <td>90</td>\n",
       "      <td>0</td>\n",
       "      <td>35</td>\n",
       "      <td>0</td>\n",
       "      <td>1.1</td>\n",
       "      <td>136</td>\n",
       "      <td>1</td>\n",
       "      <td>1</td>\n",
       "      <td>212</td>\n",
       "    </tr>\n",
       "    <tr>\n",
       "      <th>78</th>\n",
       "      <td>75.000</td>\n",
       "      <td>1</td>\n",
       "      <td>203</td>\n",
       "      <td>1</td>\n",
       "      <td>38</td>\n",
       "      <td>1</td>\n",
       "      <td>0.6</td>\n",
       "      <td>131</td>\n",
       "      <td>1</td>\n",
       "      <td>1</td>\n",
       "      <td>74</td>\n",
       "    </tr>\n",
       "  </tbody>\n",
       "</table>\n",
       "</div>"
      ],
      "text/plain": [
       "        age  anaemia  creatinine_phosphokinase  diabetes  ejection_fraction  \\\n",
       "188  60.667        1                       151         1                 40   \n",
       "94   58.000        0                       144         1                 38   \n",
       "126  46.000        0                       168         1                 17   \n",
       "242  40.000        0                        90         0                 35   \n",
       "78   75.000        1                       203         1                 38   \n",
       "\n",
       "     high_blood_pressure  serum_creatinine  serum_sodium  sex  smoking  time  \n",
       "188                    1               1.0           136    0        0   172  \n",
       "94                     1               0.7           142    0        0    83  \n",
       "126                    1               2.1           124    0        0   100  \n",
       "242                    0               1.1           136    1        1   212  \n",
       "78                     1               0.6           131    1        1    74  "
      ]
     },
     "execution_count": 24,
     "metadata": {},
     "output_type": "execute_result"
    }
   ],
   "source": [
    "X = X_train.drop(['Class'], axis=1)\n",
    "X.head()"
   ]
  },
  {
   "cell_type": "code",
   "execution_count": 25,
   "id": "0aecab9a",
   "metadata": {},
   "outputs": [],
   "source": [
    "y = y_train"
   ]
  },
  {
   "cell_type": "markdown",
   "id": "0bd162b2",
   "metadata": {},
   "source": [
    "- Initialize the classifier that will use entropy to classify to a maximum depth of 3"
   ]
  },
  {
   "cell_type": "code",
   "execution_count": 26,
   "id": "e7086668",
   "metadata": {},
   "outputs": [],
   "source": [
    "clf = tree.DecisionTreeClassifier(criterion='entropy', max_depth=3)"
   ]
  },
  {
   "cell_type": "code",
   "execution_count": 27,
   "id": "36f8ffb2",
   "metadata": {},
   "outputs": [],
   "source": [
    "clf=clf.fit(X, y)"
   ]
  },
  {
   "cell_type": "markdown",
   "id": "9a724b37",
   "metadata": {},
   "source": [
    "#### Plot the Decision tree"
   ]
  },
  {
   "cell_type": "code",
   "execution_count": 28,
   "id": "9a180500",
   "metadata": {},
   "outputs": [],
   "source": [
    "import pydotplus\n",
    "from IPython.display import Image"
   ]
  },
  {
   "cell_type": "code",
   "execution_count": 29,
   "id": "e2ccbcab",
   "metadata": {},
   "outputs": [],
   "source": [
    "dot_data = tree.export_graphviz(clf, feature_names=X.columns, class_names=['Living', 'Passed_Away'], filled=True, out_file=None)"
   ]
  },
  {
   "cell_type": "code",
   "execution_count": 30,
   "id": "8016f5d3",
   "metadata": {},
   "outputs": [],
   "source": [
    "graph = pydotplus.graph_from_dot_data(dot_data)"
   ]
  },
  {
   "cell_type": "code",
   "execution_count": 31,
   "id": "179da898",
   "metadata": {},
   "outputs": [
    {
     "data": {
      "image/png": "[encoded data removed]",
      "text/plain": [
       "<IPython.core.display.Image object>"
      ]
     },
     "execution_count": 31,
     "metadata": {},
     "output_type": "execute_result"
    }
   ],
   "source": [
    "Image(graph.create_png())"
   ]
  },
  {
   "cell_type": "markdown",
   "id": "c38ca0a0",
   "metadata": {},
   "source": [
    "From the Decision tree above, it can be seen that time is the most effective dividing the data into classes of either passed or survived. Other columns such as age, serum_creatinine, ejection_fraction, creatinine_phosphokinase are also effective as compared to the other risk factor columns such as diabetes, high blood pressure, anaemia"
   ]
  },
  {
   "cell_type": "markdown",
   "id": "fac42567",
   "metadata": {},
   "source": [
    "#### Convert the important classification Data into categorical data For easier working\n",
    "\n",
    "- For example, time < 70 is converted to 1 and the ones greater that are 0\n",
    "- ejection_fraction < 28\n"
   ]
  },
  {
   "cell_type": "code",
   "execution_count": 32,
   "id": "2c16c5a2",
   "metadata": {},
   "outputs": [],
   "source": [
    "data[\"time\"] = data[\"time\"].map(lambda x: 1 if (x < 70) else 0 )"
   ]
  },
  {
   "cell_type": "code",
   "execution_count": 33,
   "id": "2e1afe4b",
   "metadata": {},
   "outputs": [],
   "source": [
    "data[\"ejection_fraction\"] = data[\"ejection_fraction\"].map(lambda x: 1 if (x < 28) else 0 )"
   ]
  },
  {
   "cell_type": "code",
   "execution_count": 34,
   "id": "58040e0f",
   "metadata": {},
   "outputs": [],
   "source": [
    "data[\"creatinine_phosphokinase\"] = data[\"creatinine_phosphokinase\"].map(lambda x: 1 if (x < 110) else 0 )"
   ]
  },
  {
   "cell_type": "code",
   "execution_count": 35,
   "id": "18e856c8",
   "metadata": {},
   "outputs": [],
   "source": [
    "data[\"age\"] = data[\"age\"].map(lambda x: 1 if (x < 75) else 0 )"
   ]
  },
  {
   "cell_type": "code",
   "execution_count": 36,
   "id": "3b6a51be",
   "metadata": {},
   "outputs": [],
   "source": [
    "data[\"serum_creatinine\"] = data[\"serum_creatinine\"].map(lambda x: 1 if (x < 1.46) else 0 )"
   ]
  },
  {
   "cell_type": "code",
   "execution_count": 37,
   "id": "d17050f6",
   "metadata": {},
   "outputs": [
    {
     "data": {
      "text/html": [
       "<div>\n",
       "<style scoped>\n",
       "    .dataframe tbody tr th:only-of-type {\n",
       "        vertical-align: middle;\n",
       "    }\n",
       "\n",
       "    .dataframe tbody tr th {\n",
       "        vertical-align: top;\n",
       "    }\n",
       "\n",
       "    .dataframe thead th {\n",
       "        text-align: right;\n",
       "    }\n",
       "</style>\n",
       "<table border=\"1\" class=\"dataframe\">\n",
       "  <thead>\n",
       "    <tr style=\"text-align: right;\">\n",
       "      <th></th>\n",
       "      <th>age</th>\n",
       "      <th>anaemia</th>\n",
       "      <th>creatinine_phosphokinase</th>\n",
       "      <th>diabetes</th>\n",
       "      <th>ejection_fraction</th>\n",
       "      <th>high_blood_pressure</th>\n",
       "      <th>serum_creatinine</th>\n",
       "      <th>serum_sodium</th>\n",
       "      <th>sex</th>\n",
       "      <th>smoking</th>\n",
       "      <th>time</th>\n",
       "      <th>Class</th>\n",
       "      <th>platelet_count</th>\n",
       "    </tr>\n",
       "  </thead>\n",
       "  <tbody>\n",
       "    <tr>\n",
       "      <th>161</th>\n",
       "      <td>1</td>\n",
       "      <td>1</td>\n",
       "      <td>0</td>\n",
       "      <td>0</td>\n",
       "      <td>0</td>\n",
       "      <td>0</td>\n",
       "      <td>1</td>\n",
       "      <td>139</td>\n",
       "      <td>1</td>\n",
       "      <td>1</td>\n",
       "      <td>0</td>\n",
       "      <td>0</td>\n",
       "      <td>normal</td>\n",
       "    </tr>\n",
       "    <tr>\n",
       "      <th>224</th>\n",
       "      <td>1</td>\n",
       "      <td>0</td>\n",
       "      <td>0</td>\n",
       "      <td>1</td>\n",
       "      <td>1</td>\n",
       "      <td>0</td>\n",
       "      <td>1</td>\n",
       "      <td>138</td>\n",
       "      <td>1</td>\n",
       "      <td>0</td>\n",
       "      <td>0</td>\n",
       "      <td>0</td>\n",
       "      <td>high</td>\n",
       "    </tr>\n",
       "    <tr>\n",
       "      <th>127</th>\n",
       "      <td>1</td>\n",
       "      <td>1</td>\n",
       "      <td>0</td>\n",
       "      <td>1</td>\n",
       "      <td>0</td>\n",
       "      <td>0</td>\n",
       "      <td>1</td>\n",
       "      <td>137</td>\n",
       "      <td>0</td>\n",
       "      <td>0</td>\n",
       "      <td>0</td>\n",
       "      <td>0</td>\n",
       "      <td>normal</td>\n",
       "    </tr>\n",
       "    <tr>\n",
       "      <th>70</th>\n",
       "      <td>1</td>\n",
       "      <td>0</td>\n",
       "      <td>0</td>\n",
       "      <td>0</td>\n",
       "      <td>0</td>\n",
       "      <td>0</td>\n",
       "      <td>1</td>\n",
       "      <td>140</td>\n",
       "      <td>1</td>\n",
       "      <td>1</td>\n",
       "      <td>1</td>\n",
       "      <td>0</td>\n",
       "      <td>normal</td>\n",
       "    </tr>\n",
       "    <tr>\n",
       "      <th>260</th>\n",
       "      <td>1</td>\n",
       "      <td>0</td>\n",
       "      <td>1</td>\n",
       "      <td>0</td>\n",
       "      <td>0</td>\n",
       "      <td>0</td>\n",
       "      <td>1</td>\n",
       "      <td>138</td>\n",
       "      <td>1</td>\n",
       "      <td>0</td>\n",
       "      <td>0</td>\n",
       "      <td>0</td>\n",
       "      <td>normal</td>\n",
       "    </tr>\n",
       "    <tr>\n",
       "      <th>91</th>\n",
       "      <td>1</td>\n",
       "      <td>0</td>\n",
       "      <td>0</td>\n",
       "      <td>1</td>\n",
       "      <td>0</td>\n",
       "      <td>0</td>\n",
       "      <td>1</td>\n",
       "      <td>133</td>\n",
       "      <td>1</td>\n",
       "      <td>0</td>\n",
       "      <td>0</td>\n",
       "      <td>0</td>\n",
       "      <td>normal</td>\n",
       "    </tr>\n",
       "    <tr>\n",
       "      <th>19</th>\n",
       "      <td>1</td>\n",
       "      <td>1</td>\n",
       "      <td>0</td>\n",
       "      <td>1</td>\n",
       "      <td>0</td>\n",
       "      <td>0</td>\n",
       "      <td>0</td>\n",
       "      <td>121</td>\n",
       "      <td>0</td>\n",
       "      <td>0</td>\n",
       "      <td>1</td>\n",
       "      <td>1</td>\n",
       "      <td>low</td>\n",
       "    </tr>\n",
       "  </tbody>\n",
       "</table>\n",
       "</div>"
      ],
      "text/plain": [
       "     age  anaemia  creatinine_phosphokinase  diabetes  ejection_fraction  \\\n",
       "161    1        1                         0         0                  0   \n",
       "224    1        0                         0         1                  1   \n",
       "127    1        1                         0         1                  0   \n",
       "70     1        0                         0         0                  0   \n",
       "260    1        0                         1         0                  0   \n",
       "91     1        0                         0         1                  0   \n",
       "19     1        1                         0         1                  0   \n",
       "\n",
       "     high_blood_pressure  serum_creatinine  serum_sodium  sex  smoking  time  \\\n",
       "161                    0                 1           139    1        1     0   \n",
       "224                    0                 1           138    1        0     0   \n",
       "127                    0                 1           137    0        0     0   \n",
       "70                     0                 1           140    1        1     1   \n",
       "260                    0                 1           138    1        0     0   \n",
       "91                     0                 1           133    1        0     0   \n",
       "19                     0                 0           121    0        0     1   \n",
       "\n",
       "     Class platelet_count  \n",
       "161      0         normal  \n",
       "224      0           high  \n",
       "127      0         normal  \n",
       "70       0         normal  \n",
       "260      0         normal  \n",
       "91       0         normal  \n",
       "19       1            low  "
      ]
     },
     "execution_count": 37,
     "metadata": {},
     "output_type": "execute_result"
    }
   ],
   "source": [
    "# Print out the new dataset\n",
    "data.sample(7)"
   ]
  },
  {
   "cell_type": "code",
   "execution_count": 38,
   "id": "defcf66f",
   "metadata": {},
   "outputs": [],
   "source": [
    "X = data.drop(['serum_sodium', 'platelet_count'], axis=1)"
   ]
  },
  {
   "cell_type": "code",
   "execution_count": 39,
   "id": "1f1da1e3",
   "metadata": {},
   "outputs": [],
   "source": [
    "y = data[\"Class\"]"
   ]
  },
  {
   "cell_type": "code",
   "execution_count": 40,
   "id": "cbed624e",
   "metadata": {},
   "outputs": [],
   "source": [
    "X_train, X_test, y_train, y_test = train_test_split(X, y, test_size=0.2, random_state=np.random.seed(7))"
   ]
  },
  {
   "cell_type": "code",
   "execution_count": 41,
   "id": "b089389c",
   "metadata": {},
   "outputs": [
    {
     "data": {
      "text/html": [
       "<div>\n",
       "<style scoped>\n",
       "    .dataframe tbody tr th:only-of-type {\n",
       "        vertical-align: middle;\n",
       "    }\n",
       "\n",
       "    .dataframe tbody tr th {\n",
       "        vertical-align: top;\n",
       "    }\n",
       "\n",
       "    .dataframe thead th {\n",
       "        text-align: right;\n",
       "    }\n",
       "</style>\n",
       "<table border=\"1\" class=\"dataframe\">\n",
       "  <thead>\n",
       "    <tr style=\"text-align: right;\">\n",
       "      <th></th>\n",
       "      <th>age</th>\n",
       "      <th>anaemia</th>\n",
       "      <th>creatinine_phosphokinase</th>\n",
       "      <th>diabetes</th>\n",
       "      <th>ejection_fraction</th>\n",
       "      <th>high_blood_pressure</th>\n",
       "      <th>serum_creatinine</th>\n",
       "      <th>sex</th>\n",
       "      <th>smoking</th>\n",
       "      <th>time</th>\n",
       "      <th>Class</th>\n",
       "    </tr>\n",
       "  </thead>\n",
       "  <tbody>\n",
       "    <tr>\n",
       "      <th>188</th>\n",
       "      <td>1</td>\n",
       "      <td>1</td>\n",
       "      <td>0</td>\n",
       "      <td>1</td>\n",
       "      <td>0</td>\n",
       "      <td>1</td>\n",
       "      <td>1</td>\n",
       "      <td>0</td>\n",
       "      <td>0</td>\n",
       "      <td>0</td>\n",
       "      <td>0</td>\n",
       "    </tr>\n",
       "    <tr>\n",
       "      <th>94</th>\n",
       "      <td>1</td>\n",
       "      <td>0</td>\n",
       "      <td>0</td>\n",
       "      <td>1</td>\n",
       "      <td>0</td>\n",
       "      <td>1</td>\n",
       "      <td>1</td>\n",
       "      <td>0</td>\n",
       "      <td>0</td>\n",
       "      <td>0</td>\n",
       "      <td>0</td>\n",
       "    </tr>\n",
       "    <tr>\n",
       "      <th>126</th>\n",
       "      <td>1</td>\n",
       "      <td>0</td>\n",
       "      <td>0</td>\n",
       "      <td>1</td>\n",
       "      <td>1</td>\n",
       "      <td>1</td>\n",
       "      <td>0</td>\n",
       "      <td>0</td>\n",
       "      <td>0</td>\n",
       "      <td>0</td>\n",
       "      <td>1</td>\n",
       "    </tr>\n",
       "    <tr>\n",
       "      <th>242</th>\n",
       "      <td>1</td>\n",
       "      <td>0</td>\n",
       "      <td>1</td>\n",
       "      <td>0</td>\n",
       "      <td>0</td>\n",
       "      <td>0</td>\n",
       "      <td>1</td>\n",
       "      <td>1</td>\n",
       "      <td>1</td>\n",
       "      <td>0</td>\n",
       "      <td>0</td>\n",
       "    </tr>\n",
       "    <tr>\n",
       "      <th>78</th>\n",
       "      <td>0</td>\n",
       "      <td>1</td>\n",
       "      <td>0</td>\n",
       "      <td>1</td>\n",
       "      <td>0</td>\n",
       "      <td>1</td>\n",
       "      <td>1</td>\n",
       "      <td>1</td>\n",
       "      <td>1</td>\n",
       "      <td>0</td>\n",
       "      <td>0</td>\n",
       "    </tr>\n",
       "  </tbody>\n",
       "</table>\n",
       "</div>"
      ],
      "text/plain": [
       "     age  anaemia  creatinine_phosphokinase  diabetes  ejection_fraction  \\\n",
       "188    1        1                         0         1                  0   \n",
       "94     1        0                         0         1                  0   \n",
       "126    1        0                         0         1                  1   \n",
       "242    1        0                         1         0                  0   \n",
       "78     0        1                         0         1                  0   \n",
       "\n",
       "     high_blood_pressure  serum_creatinine  sex  smoking  time  Class  \n",
       "188                    1                 1    0        0     0      0  \n",
       "94                     1                 1    0        0     0      0  \n",
       "126                    1                 0    0        0     0      1  \n",
       "242                    0                 1    1        1     0      0  \n",
       "78                     1                 1    1        1     0      0  "
      ]
     },
     "execution_count": 41,
     "metadata": {},
     "output_type": "execute_result"
    }
   ],
   "source": [
    "X_train.head()"
   ]
  },
  {
   "cell_type": "code",
   "execution_count": 42,
   "id": "d4ba8357",
   "metadata": {},
   "outputs": [],
   "source": [
    "X = X_train.drop(['Class'], axis=1)\n",
    "y = y_train"
   ]
  },
  {
   "cell_type": "code",
   "execution_count": 43,
   "id": "6ecf3666",
   "metadata": {},
   "outputs": [
    {
     "data": {
      "text/html": [
       "<div>\n",
       "<style scoped>\n",
       "    .dataframe tbody tr th:only-of-type {\n",
       "        vertical-align: middle;\n",
       "    }\n",
       "\n",
       "    .dataframe tbody tr th {\n",
       "        vertical-align: top;\n",
       "    }\n",
       "\n",
       "    .dataframe thead th {\n",
       "        text-align: right;\n",
       "    }\n",
       "</style>\n",
       "<table border=\"1\" class=\"dataframe\">\n",
       "  <thead>\n",
       "    <tr style=\"text-align: right;\">\n",
       "      <th></th>\n",
       "      <th>age</th>\n",
       "      <th>anaemia</th>\n",
       "      <th>creatinine_phosphokinase</th>\n",
       "      <th>diabetes</th>\n",
       "      <th>ejection_fraction</th>\n",
       "      <th>high_blood_pressure</th>\n",
       "      <th>serum_creatinine</th>\n",
       "      <th>sex</th>\n",
       "      <th>smoking</th>\n",
       "      <th>time</th>\n",
       "    </tr>\n",
       "  </thead>\n",
       "  <tbody>\n",
       "    <tr>\n",
       "      <th>188</th>\n",
       "      <td>1</td>\n",
       "      <td>1</td>\n",
       "      <td>0</td>\n",
       "      <td>1</td>\n",
       "      <td>0</td>\n",
       "      <td>1</td>\n",
       "      <td>1</td>\n",
       "      <td>0</td>\n",
       "      <td>0</td>\n",
       "      <td>0</td>\n",
       "    </tr>\n",
       "    <tr>\n",
       "      <th>94</th>\n",
       "      <td>1</td>\n",
       "      <td>0</td>\n",
       "      <td>0</td>\n",
       "      <td>1</td>\n",
       "      <td>0</td>\n",
       "      <td>1</td>\n",
       "      <td>1</td>\n",
       "      <td>0</td>\n",
       "      <td>0</td>\n",
       "      <td>0</td>\n",
       "    </tr>\n",
       "    <tr>\n",
       "      <th>126</th>\n",
       "      <td>1</td>\n",
       "      <td>0</td>\n",
       "      <td>0</td>\n",
       "      <td>1</td>\n",
       "      <td>1</td>\n",
       "      <td>1</td>\n",
       "      <td>0</td>\n",
       "      <td>0</td>\n",
       "      <td>0</td>\n",
       "      <td>0</td>\n",
       "    </tr>\n",
       "    <tr>\n",
       "      <th>242</th>\n",
       "      <td>1</td>\n",
       "      <td>0</td>\n",
       "      <td>1</td>\n",
       "      <td>0</td>\n",
       "      <td>0</td>\n",
       "      <td>0</td>\n",
       "      <td>1</td>\n",
       "      <td>1</td>\n",
       "      <td>1</td>\n",
       "      <td>0</td>\n",
       "    </tr>\n",
       "    <tr>\n",
       "      <th>78</th>\n",
       "      <td>0</td>\n",
       "      <td>1</td>\n",
       "      <td>0</td>\n",
       "      <td>1</td>\n",
       "      <td>0</td>\n",
       "      <td>1</td>\n",
       "      <td>1</td>\n",
       "      <td>1</td>\n",
       "      <td>1</td>\n",
       "      <td>0</td>\n",
       "    </tr>\n",
       "  </tbody>\n",
       "</table>\n",
       "</div>"
      ],
      "text/plain": [
       "     age  anaemia  creatinine_phosphokinase  diabetes  ejection_fraction  \\\n",
       "188    1        1                         0         1                  0   \n",
       "94     1        0                         0         1                  0   \n",
       "126    1        0                         0         1                  1   \n",
       "242    1        0                         1         0                  0   \n",
       "78     0        1                         0         1                  0   \n",
       "\n",
       "     high_blood_pressure  serum_creatinine  sex  smoking  time  \n",
       "188                    1                 1    0        0     0  \n",
       "94                     1                 1    0        0     0  \n",
       "126                    1                 0    0        0     0  \n",
       "242                    0                 1    1        1     0  \n",
       "78                     1                 1    1        1     0  "
      ]
     },
     "execution_count": 43,
     "metadata": {},
     "output_type": "execute_result"
    }
   ],
   "source": [
    "X.head()"
   ]
  },
  {
   "cell_type": "markdown",
   "id": "118dac84",
   "metadata": {},
   "source": [
    "#### Plot the Decision tree with the new data"
   ]
  },
  {
   "cell_type": "code",
   "execution_count": 44,
   "id": "b66f8c9b",
   "metadata": {},
   "outputs": [
    {
     "data": {
      "image/png": "[encoded data removed]",
      "text/plain": [
       "<IPython.core.display.Image object>"
      ]
     },
     "execution_count": 44,
     "metadata": {},
     "output_type": "execute_result"
    }
   ],
   "source": [
    "clf=clf.fit(X, y)\n",
    "dot_data = tree.export_graphviz(clf, feature_names=X.columns, class_names=['Living', 'Passed_Away'], filled=True, out_file=None)\n",
    "graph = pydotplus.graph_from_dot_data(dot_data)\n",
    "Image(graph.create_png())"
   ]
  },
  {
   "cell_type": "markdown",
   "id": "522f7d89",
   "metadata": {},
   "source": [
    "Given this is medical data, the classes are not clear cut. However for the best possible results, age, time, serum_creatinine high blood pressure and creatinine phosphokinase are used"
   ]
  },
  {
   "cell_type": "markdown",
   "id": "16d64f66",
   "metadata": {},
   "source": [
    "## Testing the Decision Tree"
   ]
  },
  {
   "cell_type": "code",
   "execution_count": 45,
   "id": "84f96642",
   "metadata": {},
   "outputs": [
    {
     "data": {
      "text/plain": [
       "268    0\n",
       "240    0\n",
       "278    0\n",
       "176    0\n",
       "202    0\n",
       "Name: Class, dtype: int64"
      ]
     },
     "execution_count": 45,
     "metadata": {},
     "output_type": "execute_result"
    }
   ],
   "source": [
    "y_test.head()"
   ]
  },
  {
   "cell_type": "code",
   "execution_count": 46,
   "id": "2ae38fca",
   "metadata": {},
   "outputs": [],
   "source": [
    "X_test = X_test.drop(['Class'], axis=1)"
   ]
  },
  {
   "cell_type": "code",
   "execution_count": 47,
   "id": "b0d28944",
   "metadata": {},
   "outputs": [],
   "source": [
    "predY = clf.predict(X_test)"
   ]
  },
  {
   "cell_type": "code",
   "execution_count": 48,
   "id": "a5cec0fc",
   "metadata": {},
   "outputs": [],
   "source": [
    "from sklearn.metrics import accuracy_score"
   ]
  },
  {
   "cell_type": "code",
   "execution_count": 49,
   "id": "a0c9f396",
   "metadata": {},
   "outputs": [
    {
     "name": "stdout",
     "output_type": "stream",
     "text": [
      "Accuracy on test data is 86.67\n"
     ]
    }
   ],
   "source": [
    "print('Accuracy on test data is %.2f'%(accuracy_score(y_test, predY) * 100.))"
   ]
  },
  {
   "cell_type": "markdown",
   "id": "9cf5f2cd",
   "metadata": {},
   "source": [
    "The decision tree predicts the mortality rate with an accuracy of 88.67%\n",
    "- Lets see how that compares to using logistic regression."
   ]
  },
  {
   "cell_type": "markdown",
   "id": "bc41e9cc",
   "metadata": {},
   "source": [
    "# Logistic Regression"
   ]
  },
  {
   "cell_type": "code",
   "execution_count": 50,
   "id": "ecc48a41",
   "metadata": {},
   "outputs": [
    {
     "data": {
      "text/html": [
       "<div>\n",
       "<style scoped>\n",
       "    .dataframe tbody tr th:only-of-type {\n",
       "        vertical-align: middle;\n",
       "    }\n",
       "\n",
       "    .dataframe tbody tr th {\n",
       "        vertical-align: top;\n",
       "    }\n",
       "\n",
       "    .dataframe thead th {\n",
       "        text-align: right;\n",
       "    }\n",
       "</style>\n",
       "<table border=\"1\" class=\"dataframe\">\n",
       "  <thead>\n",
       "    <tr style=\"text-align: right;\">\n",
       "      <th></th>\n",
       "      <th>age</th>\n",
       "      <th>anaemia</th>\n",
       "      <th>creatinine_phosphokinase</th>\n",
       "      <th>diabetes</th>\n",
       "      <th>ejection_fraction</th>\n",
       "      <th>high_blood_pressure</th>\n",
       "      <th>serum_creatinine</th>\n",
       "      <th>serum_sodium</th>\n",
       "      <th>sex</th>\n",
       "      <th>smoking</th>\n",
       "      <th>time</th>\n",
       "      <th>Class</th>\n",
       "      <th>platelet_count</th>\n",
       "    </tr>\n",
       "  </thead>\n",
       "  <tbody>\n",
       "    <tr>\n",
       "      <th>0</th>\n",
       "      <td>0</td>\n",
       "      <td>0</td>\n",
       "      <td>0</td>\n",
       "      <td>0</td>\n",
       "      <td>1</td>\n",
       "      <td>1</td>\n",
       "      <td>0</td>\n",
       "      <td>130</td>\n",
       "      <td>1</td>\n",
       "      <td>0</td>\n",
       "      <td>1</td>\n",
       "      <td>1</td>\n",
       "      <td>normal</td>\n",
       "    </tr>\n",
       "    <tr>\n",
       "      <th>1</th>\n",
       "      <td>1</td>\n",
       "      <td>0</td>\n",
       "      <td>0</td>\n",
       "      <td>0</td>\n",
       "      <td>0</td>\n",
       "      <td>0</td>\n",
       "      <td>1</td>\n",
       "      <td>136</td>\n",
       "      <td>1</td>\n",
       "      <td>0</td>\n",
       "      <td>1</td>\n",
       "      <td>1</td>\n",
       "      <td>normal</td>\n",
       "    </tr>\n",
       "    <tr>\n",
       "      <th>2</th>\n",
       "      <td>1</td>\n",
       "      <td>0</td>\n",
       "      <td>0</td>\n",
       "      <td>0</td>\n",
       "      <td>1</td>\n",
       "      <td>0</td>\n",
       "      <td>1</td>\n",
       "      <td>129</td>\n",
       "      <td>1</td>\n",
       "      <td>1</td>\n",
       "      <td>1</td>\n",
       "      <td>1</td>\n",
       "      <td>normal</td>\n",
       "    </tr>\n",
       "    <tr>\n",
       "      <th>3</th>\n",
       "      <td>1</td>\n",
       "      <td>1</td>\n",
       "      <td>0</td>\n",
       "      <td>0</td>\n",
       "      <td>1</td>\n",
       "      <td>0</td>\n",
       "      <td>0</td>\n",
       "      <td>137</td>\n",
       "      <td>1</td>\n",
       "      <td>0</td>\n",
       "      <td>1</td>\n",
       "      <td>1</td>\n",
       "      <td>normal</td>\n",
       "    </tr>\n",
       "    <tr>\n",
       "      <th>4</th>\n",
       "      <td>1</td>\n",
       "      <td>1</td>\n",
       "      <td>0</td>\n",
       "      <td>1</td>\n",
       "      <td>1</td>\n",
       "      <td>0</td>\n",
       "      <td>0</td>\n",
       "      <td>116</td>\n",
       "      <td>0</td>\n",
       "      <td>0</td>\n",
       "      <td>1</td>\n",
       "      <td>1</td>\n",
       "      <td>normal</td>\n",
       "    </tr>\n",
       "  </tbody>\n",
       "</table>\n",
       "</div>"
      ],
      "text/plain": [
       "   age  anaemia  creatinine_phosphokinase  diabetes  ejection_fraction  \\\n",
       "0    0        0                         0         0                  1   \n",
       "1    1        0                         0         0                  0   \n",
       "2    1        0                         0         0                  1   \n",
       "3    1        1                         0         0                  1   \n",
       "4    1        1                         0         1                  1   \n",
       "\n",
       "   high_blood_pressure  serum_creatinine  serum_sodium  sex  smoking  time  \\\n",
       "0                    1                 0           130    1        0     1   \n",
       "1                    0                 1           136    1        0     1   \n",
       "2                    0                 1           129    1        1     1   \n",
       "3                    0                 0           137    1        0     1   \n",
       "4                    0                 0           116    0        0     1   \n",
       "\n",
       "   Class platelet_count  \n",
       "0      1         normal  \n",
       "1      1         normal  \n",
       "2      1         normal  \n",
       "3      1         normal  \n",
       "4      1         normal  "
      ]
     },
     "execution_count": 50,
     "metadata": {},
     "output_type": "execute_result"
    }
   ],
   "source": [
    "data.head()"
   ]
  },
  {
   "cell_type": "code",
   "execution_count": 51,
   "id": "d8eaa786",
   "metadata": {},
   "outputs": [],
   "source": [
    "data = data.drop(['serum_sodium', 'platelet_count'], axis=1)"
   ]
  },
  {
   "cell_type": "code",
   "execution_count": 52,
   "id": "34a17889",
   "metadata": {},
   "outputs": [
    {
     "data": {
      "text/html": [
       "<div>\n",
       "<style scoped>\n",
       "    .dataframe tbody tr th:only-of-type {\n",
       "        vertical-align: middle;\n",
       "    }\n",
       "\n",
       "    .dataframe tbody tr th {\n",
       "        vertical-align: top;\n",
       "    }\n",
       "\n",
       "    .dataframe thead th {\n",
       "        text-align: right;\n",
       "    }\n",
       "</style>\n",
       "<table border=\"1\" class=\"dataframe\">\n",
       "  <thead>\n",
       "    <tr style=\"text-align: right;\">\n",
       "      <th></th>\n",
       "      <th>age</th>\n",
       "      <th>anaemia</th>\n",
       "      <th>creatinine_phosphokinase</th>\n",
       "      <th>diabetes</th>\n",
       "      <th>ejection_fraction</th>\n",
       "      <th>high_blood_pressure</th>\n",
       "      <th>serum_creatinine</th>\n",
       "      <th>sex</th>\n",
       "      <th>smoking</th>\n",
       "      <th>time</th>\n",
       "      <th>Class</th>\n",
       "    </tr>\n",
       "  </thead>\n",
       "  <tbody>\n",
       "    <tr>\n",
       "      <th>0</th>\n",
       "      <td>0</td>\n",
       "      <td>0</td>\n",
       "      <td>0</td>\n",
       "      <td>0</td>\n",
       "      <td>1</td>\n",
       "      <td>1</td>\n",
       "      <td>0</td>\n",
       "      <td>1</td>\n",
       "      <td>0</td>\n",
       "      <td>1</td>\n",
       "      <td>1</td>\n",
       "    </tr>\n",
       "    <tr>\n",
       "      <th>1</th>\n",
       "      <td>1</td>\n",
       "      <td>0</td>\n",
       "      <td>0</td>\n",
       "      <td>0</td>\n",
       "      <td>0</td>\n",
       "      <td>0</td>\n",
       "      <td>1</td>\n",
       "      <td>1</td>\n",
       "      <td>0</td>\n",
       "      <td>1</td>\n",
       "      <td>1</td>\n",
       "    </tr>\n",
       "    <tr>\n",
       "      <th>2</th>\n",
       "      <td>1</td>\n",
       "      <td>0</td>\n",
       "      <td>0</td>\n",
       "      <td>0</td>\n",
       "      <td>1</td>\n",
       "      <td>0</td>\n",
       "      <td>1</td>\n",
       "      <td>1</td>\n",
       "      <td>1</td>\n",
       "      <td>1</td>\n",
       "      <td>1</td>\n",
       "    </tr>\n",
       "    <tr>\n",
       "      <th>3</th>\n",
       "      <td>1</td>\n",
       "      <td>1</td>\n",
       "      <td>0</td>\n",
       "      <td>0</td>\n",
       "      <td>1</td>\n",
       "      <td>0</td>\n",
       "      <td>0</td>\n",
       "      <td>1</td>\n",
       "      <td>0</td>\n",
       "      <td>1</td>\n",
       "      <td>1</td>\n",
       "    </tr>\n",
       "    <tr>\n",
       "      <th>4</th>\n",
       "      <td>1</td>\n",
       "      <td>1</td>\n",
       "      <td>0</td>\n",
       "      <td>1</td>\n",
       "      <td>1</td>\n",
       "      <td>0</td>\n",
       "      <td>0</td>\n",
       "      <td>0</td>\n",
       "      <td>0</td>\n",
       "      <td>1</td>\n",
       "      <td>1</td>\n",
       "    </tr>\n",
       "  </tbody>\n",
       "</table>\n",
       "</div>"
      ],
      "text/plain": [
       "   age  anaemia  creatinine_phosphokinase  diabetes  ejection_fraction  \\\n",
       "0    0        0                         0         0                  1   \n",
       "1    1        0                         0         0                  0   \n",
       "2    1        0                         0         0                  1   \n",
       "3    1        1                         0         0                  1   \n",
       "4    1        1                         0         1                  1   \n",
       "\n",
       "   high_blood_pressure  serum_creatinine  sex  smoking  time  Class  \n",
       "0                    1                 0    1        0     1      1  \n",
       "1                    0                 1    1        0     1      1  \n",
       "2                    0                 1    1        1     1      1  \n",
       "3                    0                 0    1        0     1      1  \n",
       "4                    0                 0    0        0     1      1  "
      ]
     },
     "execution_count": 52,
     "metadata": {},
     "output_type": "execute_result"
    }
   ],
   "source": [
    "data.head()"
   ]
  },
  {
   "cell_type": "code",
   "execution_count": 53,
   "id": "0d6396c2",
   "metadata": {},
   "outputs": [],
   "source": [
    "# X the independent variable is defined in capital\n",
    "X=data.iloc[:, 0:10].values.astype(int)"
   ]
  },
  {
   "cell_type": "code",
   "execution_count": 54,
   "id": "6902603a",
   "metadata": {},
   "outputs": [
    {
     "data": {
      "text/plain": [
       "array([[0, 0, 0, ..., 1, 0, 1],\n",
       "       [1, 0, 0, ..., 1, 0, 1],\n",
       "       [1, 0, 0, ..., 1, 1, 1],\n",
       "       ...,\n",
       "       [1, 0, 0, ..., 0, 0, 0],\n",
       "       [1, 0, 0, ..., 1, 1, 0],\n",
       "       [1, 0, 0, ..., 1, 1, 0]])"
      ]
     },
     "execution_count": 54,
     "metadata": {},
     "output_type": "execute_result"
    }
   ],
   "source": [
    "X"
   ]
  },
  {
   "cell_type": "code",
   "execution_count": 55,
   "id": "d3bdcb3e",
   "metadata": {},
   "outputs": [],
   "source": [
    "y=data.iloc[:,10].values.astype(int)"
   ]
  },
  {
   "cell_type": "markdown",
   "id": "f952b351",
   "metadata": {},
   "source": [
    "#### Split the data after selecting the columns that are usefull(have categorical data)"
   ]
  },
  {
   "cell_type": "code",
   "execution_count": 56,
   "id": "f0230890",
   "metadata": {},
   "outputs": [],
   "source": [
    "X_train, X_test, y_train, y_test = train_test_split(X, y, test_size=0.2, random_state=np.random.seed(7))"
   ]
  },
  {
   "cell_type": "code",
   "execution_count": 57,
   "id": "374fce4f",
   "metadata": {},
   "outputs": [],
   "source": [
    "from sklearn.metrics import accuracy_score, precision_recall_fscore_support, classification_report\n",
    "from sklearn.linear_model import LogisticRegression\n",
    "import wandb\n",
    "import time"
   ]
  },
  {
   "cell_type": "markdown",
   "id": "8faea4ce",
   "metadata": {},
   "source": [
    "### Define a pipeline function to be used in algorithm"
   ]
  },
  {
   "cell_type": "code",
   "execution_count": 58,
   "id": "e410282a",
   "metadata": {},
   "outputs": [],
   "source": [
    "def train_eval_pipeline(model, train_data, test_data, name):\n",
    "    #initialize wandb and give proj a name\n",
    "    wandb.init(project='ML for heart failure prediction', name=name)\n",
    "    #assign the data\n",
    "    (X_train, y_train) = train_data\n",
    "    (X_test, y_test) = test_data\n",
    "    \n",
    "    #Train the model\n",
    "    start = time.time()\n",
    "    model.fit(X_train, y_train)\n",
    "    end = time.time() - start\n",
    "    prediction = model.predict(X_test)\n",
    "    \n",
    "    wandb.log({\"accuracy\": accuracy_score(y_test, prediction) * 100, \"precision\": precision_recall_fscore_support(y_test, prediction, average='macro')[0], \"recall\" : precision_recall_fscore_support(y_test, prediction, average='macro')[1], \"training_time\" : end})\n",
    "    print(\"Accuracy of the Logistic Regression classifier with default hyperparameter values {0: .2f}%\".format(accuracy_score(y_test, prediction)*100.))\n",
    "    print(\"\\n\")\n",
    "    print(\"---classification report of the Logistic Regression Classifier with default parameter values ---\")\n",
    "    print(\"\\n\")\n",
    "    print(classification_report(y_test, prediction, target_names=[\"Passed on\", \"Surivived\"]))"
   ]
  },
  {
   "cell_type": "code",
   "execution_count": 59,
   "id": "a84dd4da",
   "metadata": {},
   "outputs": [],
   "source": [
    "logreg = LogisticRegression()"
   ]
  },
  {
   "cell_type": "code",
   "execution_count": 60,
   "id": "14ddd36a",
   "metadata": {},
   "outputs": [
    {
     "data": {
      "text/plain": [
       "LogisticRegression()"
      ]
     },
     "execution_count": 60,
     "metadata": {},
     "output_type": "execute_result"
    }
   ],
   "source": [
    "logreg"
   ]
  },
  {
   "cell_type": "code",
   "execution_count": 61,
   "id": "413a49ef",
   "metadata": {},
   "outputs": [
    {
     "name": "stderr",
     "output_type": "stream",
     "text": [
      "wandb: Currently logged in as: austinmula (use `wandb login --relogin` to force relogin)\n",
      "wandb: wandb version 0.12.4 is available!  To upgrade, please run:\n",
      "wandb:  $ pip install wandb --upgrade\n"
     ]
    },
    {
     "data": {
      "text/html": [
       "\n",
       "                Tracking run with wandb version 0.12.2<br/>\n",
       "                Syncing run <strong style=\"color:#cdcd00\">Logistic_Regression_Predicting_Heart_Failure</strong> to <a href=\"https://wandb.ai\" target=\"_blank\">Weights & Biases</a> <a href=\"https://docs.wandb.com/integrations/jupyter.html\" target=\"_blank\">(Documentation)</a>.<br/>\n",
       "                Project page: <a href=\"https://wandb.ai/austinmula/ML%20for%20heart%20failure%20prediction\" target=\"_blank\">https://wandb.ai/austinmula/ML%20for%20heart%20failure%20prediction</a><br/>\n",
       "                Run page: <a href=\"https://wandb.ai/austinmula/ML%20for%20heart%20failure%20prediction/runs/24xkibjg\" target=\"_blank\">https://wandb.ai/austinmula/ML%20for%20heart%20failure%20prediction/runs/24xkibjg</a><br/>\n",
       "                Run data is saved locally in <code>C:\\Users\\25470\\Desktop\\Data Science\\wandb\\run-20211009_170249-24xkibjg</code><br/><br/>\n",
       "            "
      ],
      "text/plain": [
       "<IPython.core.display.HTML object>"
      ]
     },
     "metadata": {},
     "output_type": "display_data"
    },
    {
     "name": "stdout",
     "output_type": "stream",
     "text": [
      "Accuracy of the Logistic Regression classifier with default hyperparameter values  88.33%\n",
      "\n",
      "\n",
      "---classification report of the Logistic Regression Classifier with default parameter values ---\n",
      "\n",
      "\n",
      "              precision    recall  f1-score   support\n",
      "\n",
      "   Passed on       0.91      0.93      0.92        46\n",
      "   Surivived       0.77      0.71      0.74        14\n",
      "\n",
      "    accuracy                           0.88        60\n",
      "   macro avg       0.84      0.82      0.83        60\n",
      "weighted avg       0.88      0.88      0.88        60\n",
      "\n"
     ]
    }
   ],
   "source": [
    "train_eval_pipeline(logreg, (X_train, y_train), (X_test, y_test), \"Logistic_Regression_Predicting_Heart_Failure\")"
   ]
  },
  {
   "cell_type": "markdown",
   "id": "b69c3117",
   "metadata": {},
   "source": [
    "Comments\n",
    "- The logistic regression algorithm produces an accuracy of 88.33% which is better than the Decision tree."
   ]
  },
  {
   "cell_type": "markdown",
   "id": "3b535be9",
   "metadata": {},
   "source": [
    "# Perform Hyperparameter Tunning to improve accuracy\n",
    "\n",
    "We need to define the grid of the values for the hyperparameters that we need to tune. For this example we use the random search for hyperparameter tuning"
   ]
  },
  {
   "cell_type": "code",
   "execution_count": 62,
   "id": "e585b559",
   "metadata": {},
   "outputs": [],
   "source": [
    "from sklearn.model_selection import RandomizedSearchCV\n",
    "from scipy.stats import uniform"
   ]
  },
  {
   "cell_type": "markdown",
   "id": "55e8a9a6",
   "metadata": {},
   "source": [
    "The Grid values consist of a penalty, C, maximum number of iterations and tolerance"
   ]
  },
  {
   "cell_type": "code",
   "execution_count": 63,
   "id": "65fba776",
   "metadata": {},
   "outputs": [],
   "source": [
    "penalty = [\"l1\", \"l2\"]"
   ]
  },
  {
   "cell_type": "code",
   "execution_count": 64,
   "id": "76945882",
   "metadata": {},
   "outputs": [],
   "source": [
    "C= uniform(loc=0, scale=4)"
   ]
  },
  {
   "cell_type": "code",
   "execution_count": 65,
   "id": "7d9ec8b8",
   "metadata": {},
   "outputs": [],
   "source": [
    "max_iter = [100, 150, 200, 250]"
   ]
  },
  {
   "cell_type": "code",
   "execution_count": 66,
   "id": "84621de4",
   "metadata": {},
   "outputs": [],
   "source": [
    "tol = [0.01, 0.001, 0.0001]"
   ]
  },
  {
   "cell_type": "code",
   "execution_count": 67,
   "id": "95255029",
   "metadata": {},
   "outputs": [],
   "source": [
    "# Create a dict where tol and max_iter are keys and lists\n",
    "# of their values are the corresponding values"
   ]
  },
  {
   "cell_type": "code",
   "execution_count": 68,
   "id": "2797163c",
   "metadata": {},
   "outputs": [],
   "source": [
    "param_grid = dict(penalty = penalty, C = C, tol = tol, max_iter = max_iter)"
   ]
  },
  {
   "cell_type": "markdown",
   "id": "be46ba2e",
   "metadata": {},
   "source": [
    "- Now that we have the grid, we look for a set of hyperpameter values. RandomizedSearchCV looks for the appropriate values"
   ]
  },
  {
   "cell_type": "code",
   "execution_count": 69,
   "id": "6a0fe3f2",
   "metadata": {},
   "outputs": [],
   "source": [
    "random_model = RandomizedSearchCV(estimator= logreg, param_distributions=param_grid, cv=5)"
   ]
  },
  {
   "cell_type": "code",
   "execution_count": 70,
   "id": "0deffff8",
   "metadata": {},
   "outputs": [],
   "source": [
    "# Fit the model to the data"
   ]
  },
  {
   "cell_type": "code",
   "execution_count": 71,
   "id": "eeeca51c",
   "metadata": {},
   "outputs": [],
   "source": [
    "random_model_result=random_model.fit(X_train, y_train)"
   ]
  },
  {
   "cell_type": "code",
   "execution_count": 72,
   "id": "5fa02641",
   "metadata": {},
   "outputs": [],
   "source": [
    "best_score, best_params = random_model_result.best_score_,random_model_result.best_params_"
   ]
  },
  {
   "cell_type": "code",
   "execution_count": 73,
   "id": "221ff0d8",
   "metadata": {},
   "outputs": [
    {
     "name": "stdout",
     "output_type": "stream",
     "text": [
      "Best score: 84.08 using {'C': 1.1574912463137448, 'max_iter': 100, 'penalty': 'l2', 'tol': 0.0001}\n"
     ]
    }
   ],
   "source": [
    "print('Best score: %.2f using %s'%(best_score* 100.,best_params))"
   ]
  },
  {
   "cell_type": "markdown",
   "id": "67e09f1e",
   "metadata": {},
   "source": [
    "Comments \n",
    "- Random search did not help much in boosting the accuracy in this case. Lets use the hyperparamameter values and train another Logistic Regression Model with the suggested values"
   ]
  },
  {
   "cell_type": "markdown",
   "id": "49225c24",
   "metadata": {},
   "source": [
    "#### Logging the results of the hyperparameters in wandb"
   ]
  },
  {
   "cell_type": "code",
   "execution_count": 74,
   "id": "f23498b1",
   "metadata": {},
   "outputs": [],
   "source": [
    "config=wandb.config"
   ]
  },
  {
   "cell_type": "code",
   "execution_count": 75,
   "id": "2e01f741",
   "metadata": {},
   "outputs": [],
   "source": [
    "config.tol = 0.0001"
   ]
  },
  {
   "cell_type": "code",
   "execution_count": 76,
   "id": "4bceb442",
   "metadata": {},
   "outputs": [],
   "source": [
    "config.C = 1.1574912463137448"
   ]
  },
  {
   "cell_type": "code",
   "execution_count": 77,
   "id": "b4b9d085",
   "metadata": {},
   "outputs": [],
   "source": [
    "config.penalty = 'l2'"
   ]
  },
  {
   "cell_type": "markdown",
   "id": "14fc98bb",
   "metadata": {},
   "source": [
    "#### Plug in new Hyperparameter values"
   ]
  },
  {
   "cell_type": "code",
   "execution_count": 78,
   "id": "aec2432b",
   "metadata": {},
   "outputs": [],
   "source": [
    "logreg = LogisticRegression(tol=config.tol, penalty= config.penalty, max_iter=100, C=config.C)"
   ]
  },
  {
   "cell_type": "code",
   "execution_count": 79,
   "id": "29724c55",
   "metadata": {},
   "outputs": [
    {
     "data": {
      "text/plain": [
       "LogisticRegression(C=1.1574912463137448)"
      ]
     },
     "execution_count": 79,
     "metadata": {},
     "output_type": "execute_result"
    }
   ],
   "source": [
    "logreg"
   ]
  },
  {
   "cell_type": "code",
   "execution_count": 80,
   "id": "ce952270",
   "metadata": {},
   "outputs": [
    {
     "data": {
      "text/html": [
       "Finishing last run (ID:24xkibjg) before initializing another..."
      ],
      "text/plain": [
       "<IPython.core.display.HTML object>"
      ]
     },
     "metadata": {},
     "output_type": "display_data"
    },
    {
     "data": {
      "text/html": [
       "<br/>Waiting for W&B process to finish, PID 13564<br/>Program ended successfully."
      ],
      "text/plain": [
       "<IPython.core.display.HTML object>"
      ]
     },
     "metadata": {},
     "output_type": "display_data"
    },
    {
     "data": {
      "application/vnd.jupyter.widget-view+json": {
       "model_id": "",
       "version_major": 2,
       "version_minor": 0
      },
      "text/plain": [
       "VBox(children=(Label(value=' 0.00MB of 0.00MB uploaded (0.00MB deduped)\\r'), FloatProgress(value=1.0, max=1.0)…"
      ]
     },
     "metadata": {},
     "output_type": "display_data"
    },
    {
     "data": {
      "text/html": [
       "Find user logs for this run at: <code>C:\\Users\\25470\\Desktop\\Data Science\\wandb\\run-20211009_170249-24xkibjg\\logs\\debug.log</code>"
      ],
      "text/plain": [
       "<IPython.core.display.HTML object>"
      ]
     },
     "metadata": {},
     "output_type": "display_data"
    },
    {
     "data": {
      "text/html": [
       "Find internal logs for this run at: <code>C:\\Users\\25470\\Desktop\\Data Science\\wandb\\run-20211009_170249-24xkibjg\\logs\\debug-internal.log</code>"
      ],
      "text/plain": [
       "<IPython.core.display.HTML object>"
      ]
     },
     "metadata": {},
     "output_type": "display_data"
    },
    {
     "data": {
      "text/html": [
       "<h3>Run summary:</h3><br/><style>\n",
       "    table.wandb td:nth-child(1) { padding: 0 10px; text-align: right }\n",
       "    </style><table class=\"wandb\">\n",
       "<tr><td>accuracy</td><td>88.33333</td></tr><tr><td>precision</td><td>0.84206</td></tr><tr><td>recall</td><td>0.82453</td></tr><tr><td>training_time</td><td>0.03307</td></tr></table>"
      ],
      "text/plain": [
       "<IPython.core.display.HTML object>"
      ]
     },
     "metadata": {},
     "output_type": "display_data"
    },
    {
     "data": {
      "text/html": [
       "<h3>Run history:</h3><br/><style>\n",
       "    table.wandb td:nth-child(1) { padding: 0 10px; text-align: right }\n",
       "    </style><table class=\"wandb\">\n",
       "<tr><td>accuracy</td><td>▁</td></tr><tr><td>precision</td><td>▁</td></tr><tr><td>recall</td><td>▁</td></tr><tr><td>training_time</td><td>▁</td></tr></table><br/>"
      ],
      "text/plain": [
       "<IPython.core.display.HTML object>"
      ]
     },
     "metadata": {},
     "output_type": "display_data"
    },
    {
     "data": {
      "text/html": [
       "Synced 6 W&B file(s), 0 media file(s), 0 artifact file(s) and 0 other file(s)"
      ],
      "text/plain": [
       "<IPython.core.display.HTML object>"
      ]
     },
     "metadata": {},
     "output_type": "display_data"
    },
    {
     "data": {
      "text/html": [
       "\n",
       "                    <br/>Synced <strong style=\"color:#cdcd00\">Logistic_Regression_Predicting_Heart_Failure</strong>: <a href=\"https://wandb.ai/austinmula/ML%20for%20heart%20failure%20prediction/runs/24xkibjg\" target=\"_blank\">https://wandb.ai/austinmula/ML%20for%20heart%20failure%20prediction/runs/24xkibjg</a><br/>\n",
       "                "
      ],
      "text/plain": [
       "<IPython.core.display.HTML object>"
      ]
     },
     "metadata": {},
     "output_type": "display_data"
    },
    {
     "data": {
      "text/html": [
       "...Successfully finished last run (ID:24xkibjg). Initializing new run:<br/><br/>"
      ],
      "text/plain": [
       "<IPython.core.display.HTML object>"
      ]
     },
     "metadata": {},
     "output_type": "display_data"
    },
    {
     "name": "stderr",
     "output_type": "stream",
     "text": [
      "wandb: wandb version 0.12.4 is available!  To upgrade, please run:\n",
      "wandb:  $ pip install wandb --upgrade\n"
     ]
    },
    {
     "data": {
      "text/html": [
       "\n",
       "                Tracking run with wandb version 0.12.2<br/>\n",
       "                Syncing run <strong style=\"color:#cdcd00\">Logistic_Regression_Predicting_Heart_Failure</strong> to <a href=\"https://wandb.ai\" target=\"_blank\">Weights & Biases</a> <a href=\"https://docs.wandb.com/integrations/jupyter.html\" target=\"_blank\">(Documentation)</a>.<br/>\n",
       "                Project page: <a href=\"https://wandb.ai/austinmula/ML%20for%20heart%20failure%20prediction\" target=\"_blank\">https://wandb.ai/austinmula/ML%20for%20heart%20failure%20prediction</a><br/>\n",
       "                Run page: <a href=\"https://wandb.ai/austinmula/ML%20for%20heart%20failure%20prediction/runs/3ligugie\" target=\"_blank\">https://wandb.ai/austinmula/ML%20for%20heart%20failure%20prediction/runs/3ligugie</a><br/>\n",
       "                Run data is saved locally in <code>C:\\Users\\25470\\Desktop\\Data Science\\wandb\\run-20211009_170300-3ligugie</code><br/><br/>\n",
       "            "
      ],
      "text/plain": [
       "<IPython.core.display.HTML object>"
      ]
     },
     "metadata": {},
     "output_type": "display_data"
    },
    {
     "name": "stdout",
     "output_type": "stream",
     "text": [
      "Accuracy of the Logistic Regression classifier with default hyperparameter values  88.33%\n",
      "\n",
      "\n",
      "---classification report of the Logistic Regression Classifier with default parameter values ---\n",
      "\n",
      "\n",
      "              precision    recall  f1-score   support\n",
      "\n",
      "   Passed on       0.91      0.93      0.92        46\n",
      "   Surivived       0.77      0.71      0.74        14\n",
      "\n",
      "    accuracy                           0.88        60\n",
      "   macro avg       0.84      0.82      0.83        60\n",
      "weighted avg       0.88      0.88      0.88        60\n",
      "\n"
     ]
    }
   ],
   "source": [
    "train_eval_pipeline(logreg, (X_train, y_train), (X_test, y_test), \"Logistic_Regression_Predicting_Heart_Failure\")"
   ]
  },
  {
   "cell_type": "markdown",
   "id": "bf537bf3",
   "metadata": {},
   "source": [
    "# Conclussion"
   ]
  },
  {
   "cell_type": "markdown",
   "id": "14dadc4d",
   "metadata": {},
   "source": [
    "In the end, the logistic regression turned out to have a better accuracy score as compared to the to the Decision tree. The decision tree had an accuracy of 86.67% whilst the logistic regression had an accuracy of 88.33%. However, I think using them together on the same dataset improved the overall accuracy score. \n",
    "\n",
    "This is because, running the decision tree algorithm on the initial data helped me to know which columns were important in prediction. Coming into this exercise, I though the risk factors such as smoking, diabetes and anaemia were going to be the key predictors of the mortality rate. However, the decision tree showed clearly that other columns such as age, time and serum_creatinine were the key columns. That is why I changed the data in these columns to categorical data(code lines 32 - 36)\n",
    "\n",
    "- Note: This is not to mean that, the other columns such as high blood pressure, anaeamia and diabetes were not helpful.\n",
    "\n",
    "When I ran the logistic regression using only the risk factor columns such as smoking, high blood pressure, anaeamia and diabetes, the algorithm produced an accuracy of about only 76%, as logged on wandb. Hence, I think using both methods would be an advantage."
   ]
  },
  {
   "cell_type": "code",
   "execution_count": null,
   "id": "68be4b97",
   "metadata": {},
   "outputs": [],
   "source": []
  }
 ],
 "metadata": {
  "kernelspec": {
   "display_name": "Python 3",
   "language": "python",
   "name": "python3"
  },
  "language_info": {
   "codemirror_mode": {
    "name": "ipython",
    "version": 3
   },
   "file_extension": ".py",
   "mimetype": "text/x-python",
   "name": "python",
   "nbconvert_exporter": "python",
   "pygments_lexer": "ipython3",
   "version": "3.8.8"
  }
 },
 "nbformat": 4,
 "nbformat_minor": 5
}
